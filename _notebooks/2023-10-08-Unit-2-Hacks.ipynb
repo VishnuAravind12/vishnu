{
 "cells": [
  {
   "cell_type": "markdown",
   "metadata": {},
   "source": [
    "# Hack 4"
   ]
  },
  {
   "cell_type": "code",
   "execution_count": 6,
   "metadata": {
    "vscode": {
     "languageId": "java"
    }
   },
   "outputs": [
    {
     "name": "stdout",
     "output_type": "stream",
     "text": [
      "[Vishnu, Aravind]\n"
     ]
    }
   ],
   "source": [
    "import java.util.ArrayList;\n",
    "\n",
    "public class loopHack {\n",
    "    public static ArrayList<String> iterator (String fullName) {\n",
    "        for (int i = 0;  i < fullName.length(); i++) {\n",
    "            char letter = fullName.charAt(i);\n",
    "            if (letter == ' ') {\n",
    "                String firstName = fullName.substring(0, i);\n",
    "                String lastName = fullName.substring(i+1, fullName.length());\n",
    "                \n",
    "                ArrayList<String> nameList = new ArrayList<String>(2);\n",
    "                \n",
    "                nameList.add(firstName);\n",
    "                nameList.add(lastName);\n",
    "                \n",
    "                return nameList;\n",
    "            }\n",
    "        }\n",
    "        return null;\n",
    "    }\n",
    "\n",
    "    public static void main(String[] args) {\n",
    "        String name = \"Vishnu Aravind\";\n",
    "        ArrayList<String> splitName = iterator(name);\n",
    "        System.out.println(splitName);\n",
    "    }\n",
    "}\n",
    "\n",
    "loopHack.main(null);"
   ]
  },
  {
   "cell_type": "markdown",
   "metadata": {},
   "source": [
    "# Hack 1"
   ]
  },
  {
   "cell_type": "code",
   "execution_count": 9,
   "metadata": {
    "vscode": {
     "languageId": "java"
    }
   },
   "outputs": [
    {
     "name": "stdout",
     "output_type": "stream",
     "text": [
      "10\n"
     ]
    }
   ],
   "source": [
    "import java.util.ArrayList;\n",
    "\n",
    "public class numberList {\n",
    "    private ArrayList<Integer> numbers = new ArrayList<>();\n",
    "\n",
    "    public void addNumber(int num) {\n",
    "        numbers.add(num);\n",
    "    }\n",
    "\n",
    "    public int getNumberAtIndex(int index) {\n",
    "        if (index >= 0 && index < numbers.size()) {\n",
    "            return numbers.get(index);\n",
    "        } else {\n",
    "            throw new IndexOutOfBoundsException(\"Index out of bounds for the ArrayList.\");\n",
    "        }\n",
    "    }\n",
    "\n",
    "    public static void main(String[] args) {\n",
    "        numberList list = new numberList();\n",
    "        list.addNumber(5);\n",
    "        list.addNumber(10);\n",
    "        list.addNumber(15);\n",
    "        System.out.println(list.getNumberAtIndex(1));\n",
    "    }\n",
    "}\n",
    "\n",
    "numberList.main(null);"
   ]
  },
  {
   "cell_type": "markdown",
   "metadata": {},
   "source": [
    "# Hack 2"
   ]
  },
  {
   "cell_type": "code",
   "execution_count": 10,
   "metadata": {
    "vscode": {
     "languageId": "java"
    }
   },
   "outputs": [
    {
     "name": "stdout",
     "output_type": "stream",
     "text": [
      "Welcome to the guessing game!\n",
      "I've taken a number between 2 and 10 and raised it to a power between -2 and 2.\n",
      "Your task is to guess the number and its power.\n",
      "Here's the result: 8.0\n",
      "Hint: The number is raised to the power of 1, so it remains unchanged!\n",
      "Guess the number: Guess the exponent: Congratulations! You guessed correctly.\n"
     ]
    }
   ],
   "source": [
    "import java.util.Random;\n",
    "import java.util.Scanner;\n",
    "\n",
    "public class guessingGame {\n",
    "\n",
    "    private int base;\n",
    "    private int exponent;\n",
    "    private static final Random random = new Random();\n",
    "\n",
    "    public guessingGame() {\n",
    "        this.base = random.nextInt(9) + 2; // Random number between 2 and 10\n",
    "        this.exponent = random.nextInt(5) - 2; // Random number between -2 and 2 (negative for roots)\n",
    "    }\n",
    "\n",
    "    public double getResult() {\n",
    "        return Math.pow(base, exponent);\n",
    "    }\n",
    "\n",
    "    public static String getHint(int exponent) {\n",
    "        if (exponent == 0) {\n",
    "            return \"Any number raised to the power of 0 is 1!\";\n",
    "        } else if (exponent == 1) {\n",
    "            return \"The number is raised to the power of 1, so it remains unchanged!\";\n",
    "        } else if (exponent > 1) {\n",
    "            return \"The number is raised to a positive power!\";\n",
    "        } else {\n",
    "            return \"The number is under a root!\";\n",
    "        }\n",
    "    }\n",
    "\n",
    "    public static void main(String[] args) {\n",
    "        guessingGame game = new guessingGame();\n",
    "        Scanner scanner = new Scanner(System.in);\n",
    "\n",
    "        System.out.println(\"Welcome to the guessing game!\");\n",
    "        System.out.println(\"I've taken a number between 2 and 10 and raised it to a power between -2 and 2.\");\n",
    "        System.out.println(\"Guess the number and its power.\");\n",
    "        System.out.println(\"Here's the result: \" + game.getResult());\n",
    "        System.out.println(\"Hint: \" + getHint(game.exponent));\n",
    "\n",
    "        System.out.print(\"Guess the number: \");\n",
    "        int guessedBase = scanner.nextInt();\n",
    "\n",
    "        System.out.print(\"Guess the exponent: \");\n",
    "        int guessedExponent = scanner.nextInt();\n",
    "\n",
    "        if (guessedBase == game.base && guessedExponent == game.exponent) {\n",
    "            System.out.println(\"Congratulations! You guessed correctly.\");\n",
    "        } else {\n",
    "            System.out.println(\"Sorry, the correct number was \" + game.base + \" and the exponent was \" + game.exponent + \".\");\n",
    "        }\n",
    "\n",
    "        scanner.close();\n",
    "    }\n",
    "}\n",
    "\n",
    "guessingGame.main(null);"
   ]
  },
  {
   "cell_type": "markdown",
   "metadata": {},
   "source": [
    "# Hack 3"
   ]
  },
  {
   "cell_type": "code",
   "execution_count": 12,
   "metadata": {
    "vscode": {
     "languageId": "java"
    }
   },
   "outputs": [
    {
     "name": "stdout",
     "output_type": "stream",
     "text": [
      "Title: The Great Gatsby, Author: F. Scott Fitzgerald, Price: $10.99, Pages: 180, Hardcover: true\n",
      "Title: 1984, Author: George Orwell, Price: $8.99, Pages: 328, Hardcover: false\n",
      "Title: To Kill a Mockingbird, Author: Harper Lee, Price: $12.49, Pages: 281, Hardcover: true\n",
      "Title: Moby Dick, Author: Herman Melville, Price: $9.49, Pages: 635, Hardcover: false\n",
      "Title: Pride and Prejudice, Author: Jane Austen, Price: $7.99, Pages: 279, Hardcover: true\n",
      "\n",
      "Title of the first book: The Great Gatsby\n",
      "Is the first book hardcover? true\n"
     ]
    }
   ],
   "source": [
    "import java.util.ArrayList;\n",
    "import java.util.List;\n",
    "\n",
    "class Book {\n",
    "    private String title;\n",
    "    private String author;\n",
    "    private double price;\n",
    "    private int pages;\n",
    "    private boolean isHardcover;\n",
    "\n",
    "    public Book(String title, String author, double price, int pages, boolean isHardcover) {\n",
    "        this.title = title;\n",
    "        this.author = author;\n",
    "        this.price = price;\n",
    "        this.pages = pages;\n",
    "        this.isHardcover = isHardcover;\n",
    "    }\n",
    "\n",
    "    @Override\n",
    "    public String toString() {\n",
    "        return \"Title: \" + title + \", Author: \" + author + \", Price: $\" + price + \", Pages: \" + pages + \", Hardcover: \" + isHardcover;\n",
    "    }\n",
    "\n",
    "    public static void main(String[] args) {\n",
    "        List<Book> books = new ArrayList<>();\n",
    "\n",
    "        books.add(new Book(\"The Great Gatsby\", \"F. Scott Fitzgerald\", 10.99, 180, true));\n",
    "        books.add(new Book(\"1984\", \"George Orwell\", 8.99, 328, false));\n",
    "        books.add(new Book(\"To Kill a Mockingbird\", \"Harper Lee\", 12.49, 281, true));\n",
    "        books.add(new Book(\"Moby Dick\", \"Herman Melville\", 9.49, 635, false));\n",
    "        books.add(new Book(\"Pride and Prejudice\", \"Jane Austen\", 7.99, 279, true));\n",
    "\n",
    "        // Accessing and displaying information about the books\n",
    "        for (Book book : books) {\n",
    "            System.out.println(book);\n",
    "        }\n",
    "\n",
    "        // Accessing specific information from a book in the list\n",
    "        Book firstBook = books.get(0);\n",
    "        System.out.println(\"\\nTitle of the first book: \" + firstBook.title);\n",
    "        System.out.println(\"Is the first book hardcover? \" + firstBook.isHardcover);\n",
    "    }\n",
    "}\n",
    "\n",
    "Book.main(null);\n"
   ]
  }
 ],
 "metadata": {
  "kernelspec": {
   "display_name": "Java",
   "language": "java",
   "name": "java"
  },
  "language_info": {
   "codemirror_mode": "java",
   "file_extension": ".jshell",
   "mimetype": "text/x-java-source",
   "name": "Java",
   "pygments_lexer": "java",
   "version": "17.0.8+7-Ubuntu-120.04.2"
  },
  "orig_nbformat": 4
 },
 "nbformat": 4,
 "nbformat_minor": 2
}
