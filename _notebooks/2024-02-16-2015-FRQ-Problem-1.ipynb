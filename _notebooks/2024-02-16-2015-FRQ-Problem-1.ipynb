{
 "cells": [
  {
   "cell_type": "markdown",
   "metadata": {},
   "source": [
    "# Classes Question\n",
    "\n",
    "2.Consider a guessing game in which a player tries to guess a hidden word. The hidden word contains only capitalletters and has a length known to the player. A guess contains only capital letters and has the same length as the hidden word.\n",
    "\n",
    "After a guess is made, the player is given a hint that is based on a comparison between the hidden word and the guess. Each position in the hint contains a character that corresponds to the letter in the same position in the guess. The following rules determine the characters that appear in the hint.\n",
    "\n",
    "The HiddenWord class will be used to represent the hidden word in the game. The hidden word is passed to the constructor. The class contains a method, getHint, that takes a guess and produces a hint.\n",
    "\n",
    "Write the complete HiddenWord class, including any necessary instance variables, its constructor, and the method, getHint, described above. You may assume that the length of the guess is the same as the length of the hidden word."
   ]
  },
  {
   "cell_type": "code",
   "execution_count": 5,
   "metadata": {
    "vscode": {
     "languageId": "java"
    }
   },
   "outputs": [
    {
     "name": "stdout",
     "output_type": "stream",
     "text": [
      "Guess the hidden word: \n",
      "Enter your guess (or type 'exit' to quit): \n",
      "Your guess: HASHE\n",
      "Hint: HA++*\n",
      "Enter your guess (or type 'exit' to quit): \n",
      "Your guess: HACKS\n",
      "Hint: HA**S\n",
      "Enter your guess (or type 'exit' to quit): \n",
      "Your guess: HARMS\n",
      "Hint: HAR*S\n",
      "Enter your guess (or type 'exit' to quit): \n",
      "Your guess: HARPS\n",
      "Hint: HARPS\n",
      "Congratulations! You guessed the hidden word correctly!\n"
     ]
    }
   ],
   "source": [
    "import java.util.Scanner;\n",
    "\n",
    "public class HiddenWord {\n",
    "    private String hiddenWord; //Hidden Word Field\n",
    "    \n",
    "    public HiddenWord(String hiddenWord) { //contrsuctor for the hidden word\n",
    "        this.hiddenWord = hiddenWord;\n",
    "    }\n",
    "\n",
    "    public String getHint (String guess) {\n",
    "        StringBuilder hint = new StringBuilder(); //Builder for making the hint\n",
    "        \n",
    "        for (int i = 0; i < guess.length(); i++) {\n",
    "            char guessChar = guess.charAt(i); // Character from the guess\n",
    "            char hiddenChar = hiddenWord.charAt(i); // Corresponding character from the hidden word\n",
    "\n",
    "            if (guessChar == hiddenChar) {\n",
    "                hint.append(guessChar); // If characters match, add the character to the hint\n",
    "            } else if (hiddenWord.contains(String.valueOf(guessChar))) {\n",
    "                hint.append(\"+\"); // If the guess character is in the hidden word but in a different position\n",
    "            } else {\n",
    "                hint.append(\"*\"); // If the guess character is not in the hidden word\n",
    "            }\n",
    "        }\n",
    "\n",
    "        return hint.toString(); //Convert StringBuilder to String and return hint\n",
    "    }\n",
    "\n",
    "    public static void main(String args[]) {\n",
    "        Scanner scanner = new Scanner(System.in); // Create a Scanner object\n",
    "        HiddenWord puzzle = new HiddenWord(\"HARPS\");\n",
    "    \n",
    "        System.out.println(\"Guess the hidden word: \");\n",
    "        while (true) {\n",
    "            System.out.println(\"Enter your guess (or type 'exit' to quit): \");\n",
    "            String userGuess = scanner.nextLine(); // Read user input\n",
    "    \n",
    "            if (userGuess.equalsIgnoreCase(\"exit\")) {\n",
    "                break; // Exit the loop if user types 'exit'\n",
    "            }\n",
    "    \n",
    "            System.out.println(\"Your guess: \" + userGuess);\n",
    "    \n",
    "            String hint = puzzle.getHint(userGuess);\n",
    "            System.out.println(\"Hint: \" + hint);\n",
    "    \n",
    "            if (hint.equals(userGuess)) {\n",
    "                System.out.println(\"Congratulations! You guessed the hidden word correctly!\");\n",
    "                break; // Break the loop if the guess is correct\n",
    "            }\n",
    "        }\n",
    "    \n",
    "        scanner.close(); // Close the scanner\n",
    "    }\n",
    "}\n",
    "\n",
    "HiddenWord.main(null);"
   ]
  },
  {
   "cell_type": "markdown",
   "metadata": {},
   "source": [
    "In developing the `HiddenWord` class, I focused on encapsulating both the data and the logic required for the game within a single, cohesive class structure.\n",
    "\n",
    "The `HiddenWord` class centers around a private instance variable `HiddenWord`, which stores the word to be guessed. This encapsulation of the hidden word within the class ensures that the integrity of the game's core data is maintained, as it can't be accessed or modified directly from outside the class. In the constructor of `HiddenWord`, I initialized the `HiddenWord` variable. This constructor is a fundamental aspect of class design, as it sets up the initial state of the object when it's created.\n",
    "\n",
    "The `getHint` method is where the primary logic of the game resides. This method compares the user's guess with the hidden word and constructs a hint based on specific rules. By iterating over each character of the guess and comparing it with the corresponding character in the hidden word, the method effectively uses control structures to build the hint. \n",
    "\n",
    "In the initial development of the `HiddenWord` class, I utilized a simple `String` to create the hint in the `getHint` method. However, I soon realized that this approach was not the most efficient, particularly in terms of memory management. Every time a new character was added to the hint, using a `String` would create a new `String` object in memory. After some research, I came across the `StringBuilder` class, a mutable sequence of characters. `StringBuilder` allows for the dynamic modification of its contents without creating new objects each time something is appended to it. Now, instead of creating a new string each time a character is added, I simply modify the existing `StringBuilder` object. This change not only optimizes the memory usage but also makes the code cleaner.\n",
    "\n",
    "Finally, the main method transforms this class into an interactive game. By incorporating a Scanner to take user inputs and using a loop to allow continuous guessing, I created an engaging user experience. The loop checks for correct guesses and congratulates the user upon success."
   ]
  },
  {
   "cell_type": "code",
   "execution_count": null,
   "metadata": {
    "vscode": {
     "languageId": "java"
    }
   },
   "outputs": [],
   "source": [
    "package com.nighthawk.spring_portfolio.nbapredictor.monte_carlo;\n",
    "\n",
    "public class PlayerStats {\n",
    "    private int points;\n",
    "    private int rebounds;\n",
    "    private int assists;\n",
    "\n",
    "    // Getters and setters\n",
    "    public int getPoints() {\n",
    "        return points;\n",
    "    }\n",
    "\n",
    "    public void setPoints(int points) {\n",
    "        this.points = points;\n",
    "    }\n",
    "\n",
    "    public int getRebounds() {\n",
    "        return rebounds;\n",
    "    }\n",
    "\n",
    "    public void setRebounds(int rebounds) {\n",
    "        this.rebounds = rebounds;\n",
    "    }\n",
    "\n",
    "    public int getAssists() {\n",
    "        return assists;\n",
    "    }\n",
    "\n",
    "    public void setAssists(int assists) {\n",
    "        this.assists = assists;\n",
    "    }\n",
    "}\n"
   ]
  },
  {
   "cell_type": "markdown",
   "metadata": {},
   "source": [
    "The `PlayerStats` class is a great example of class desgin from our project, and a perfect example of a Plain Old Java Object (POJO). The context of `PlayerStats` is to hold individual basketball players' statistical data, such as points, rebounds, and assists. This class forms the base layer in our application's hierarchy, as it's the most granular level of data representation.\n",
    "\n",
    "The fields for the statistical data are kept private, ensuring that the internal representation of a player's stats is hidden from other parts of the program, safeguarding the integrity of the data.For each private field in the `PlayerStats` class, there getter and setter methods. The getters allow other parts of the program to read the player's statistics, while the setters enable the modification of these stats under specific conditions defined in the program.\n",
    "\n",
    "The `PlayerStats` class plays a critical role in the broader structure of our project. It serves as the building block for more complex classes like `Player` and `GameTeam`. In the `Player` class, `PlayerStats` is used to represent the individual stats of a player. The `GameTeam` class leverages uses `Player` class to form a complete team."
   ]
  }
 ],
 "metadata": {
  "kernelspec": {
   "display_name": "Java",
   "language": "java",
   "name": "java"
  },
  "language_info": {
   "codemirror_mode": "java",
   "file_extension": ".jshell",
   "mimetype": "text/x-java-source",
   "name": "Java",
   "pygments_lexer": "java",
   "version": "17.0.8+7-Ubuntu-120.04.2"
  }
 },
 "nbformat": 4,
 "nbformat_minor": 2
}
