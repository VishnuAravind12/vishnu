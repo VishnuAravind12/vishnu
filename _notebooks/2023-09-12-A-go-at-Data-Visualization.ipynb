{
 "cells": [
  {
   "cell_type": "markdown",
   "metadata": {},
   "source": [
    "# Data Visualization\n",
    "\n",
    "Just chatted up some code to create a mock dataset of cars and their brake horsepowers."
   ]
  },
  {
   "cell_type": "code",
   "execution_count": 1,
   "metadata": {},
   "outputs": [],
   "source": [
    "import java.util.HashMap;\n",
    "import java.util.Map;\n",
    "\n",
    "public class MockData {\n",
    "    public static Map<String, Integer> getCarBHP() {\n",
    "        Map<String, Integer> carBHP = new HashMap<>();\n",
    "        carBHP.put(\"Toyota Camry\", 203);  // Example BHP values\n",
    "        carBHP.put(\"Honda Accord\", 192);\n",
    "        carBHP.put(\"Ford Mustang\", 450);\n",
    "        carBHP.put(\"Chevrolet Camaro\", 275);\n",
    "        carBHP.put(\"BMW M3\", 473);\n",
    "        return carBHP;\n",
    "    }\n",
    "}"
   ]
  },
  {
   "cell_type": "markdown",
   "metadata": {},
   "source": [
    "Installing JFreeChart:\n",
    "\n",
    "This part took me a long time. I knew I to use JFreeChart library, but it was hard get it working in a Jupyter notebook with Java.\n",
    "\n",
    "Found the .jar files off the maven repository site. I should try in the future to integrate Maven into all of this. Might be easier to access different libraries."
   ]
  },
  {
   "cell_type": "code",
   "execution_count": 6,
   "metadata": {},
   "outputs": [],
   "source": [
    "%jars /home/vishnuaa77/vscode/vishnu/lib/jfreechart-1.5.4.jar\n",
    "%jars /home/vishnuaa77/vscode/vishnu/lib/jcommon-1.0.24.jar"
   ]
  },
  {
   "cell_type": "code",
   "execution_count": 13,
   "metadata": {},
   "outputs": [],
   "source": [
    "import java.awt.Graphics2D;\n",
    "import java.awt.geom.Rectangle2D;\n",
    "import java.awt.image.BufferedImage;\n",
    "import javax.imageio.ImageIO;\n",
    "import java.io.File;\n",
    "import org.jfree.chart.ChartFactory;\n",
    "import org.jfree.chart.ChartPanel;\n",
    "import org.jfree.chart.JFreeChart;\n",
    "import org.jfree.data.category.DefaultCategoryDataset;\n",
    "\n",
    "public class ChartExperiment {\n",
    "    public static void main(String[] args) {\n",
    "        DefaultCategoryDataset dataset = new DefaultCategoryDataset();\n",
    "        \n",
    "        Map<String, Integer> carBHP = MockData.getCarBHP();\n",
    "        for (String car : carBHP.keySet()) {\n",
    "            dataset.addValue(carBHP.get(car), \"BHP\", car);\n",
    "        }\n",
    "        \n",
    "        JFreeChart barChart = ChartFactory.createBarChart(\n",
    "            \"Car Brake Horsepower\",\n",
    "            \"Car Model\",\n",
    "            \"BHP\",\n",
    "            dataset\n",
    "        );\n",
    "        \n",
    "        ChartPanel chartPanel = new ChartPanel(barChart);\n",
    "        \n",
    "        try {\n",
    "            BufferedImage chartImage = barChart.createBufferedImage(800, 600);\n",
    "            ImageIO.write(chartImage, \"PNG\", new File(\"/home/vishnuaa77/vscode/vishnu/images/chart.png\"));\n",
    "        } catch (IOException e) {\n",
    "            System.err.println(\"Problem occurred creating chart.\");\n",
    "        }\n",
    "    }\n",
    "}\n",
    "\n",
    "ChartExperiment.main(null);"
   ]
  },
  {
   "cell_type": "markdown",
   "metadata": {},
   "source": [
    "![Car Brake Horsepower Chart](/home/vishnuaa77/vscode/vishnu/images/chart.png)"
   ]
  }
 ],
 "metadata": {
  "kernelspec": {
   "display_name": "Java",
   "language": "java",
   "name": "java"
  },
  "language_info": {
   "codemirror_mode": "java",
   "file_extension": ".jshell",
   "mimetype": "text/x-java-source",
   "name": "java",
   "pygments_lexer": "java",
   "version": "17.0.8+7-Ubuntu-120.04.2"
  }
 },
 "nbformat": 4,
 "nbformat_minor": 2
}
