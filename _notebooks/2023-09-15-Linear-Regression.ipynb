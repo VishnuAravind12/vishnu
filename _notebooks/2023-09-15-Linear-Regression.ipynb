{
 "cells": [
  {
   "cell_type": "markdown",
   "metadata": {},
   "source": [
    "# Linear Regression\n",
    "\n",
    "I am going to try to code a linear regression model in java. I'll have chat cook some random data up for train/test. We will start with a simple single variable regression to start, and if that goes well, I will try to code a multi-variable linear regression model."
   ]
  },
  {
   "cell_type": "markdown",
   "metadata": {},
   "source": [
    "## Short Description of Linear Regression Mathematics\n",
    "\n",
    "Linear regression aims to establish a linear relationship between the independent variable(s) and the dependent variable. The goal of linear regression is to minimize the sum of the squared differences (errors) between the observed values (actual values) and the values predicted by the model."
   ]
  },
  {
   "cell_type": "markdown",
   "metadata": {},
   "source": [
    "## Simple Linear Regression Model (Single Variable)\n",
    "\n",
    "Simple linear regression is a method used to model the relationship between two continuous variables: one dependent variable (y) and one independent variable (x). The model assumes a linear relationship between these variables, which can be represented by the equation y = mx + b, where:\n",
    "\n",
    "- y is the predicted value of the dependent variable.\n",
    "- m is the slope of the regression line, indicating the average change in y for a one-unit change in x.\n",
    "- b is the y-intercept, representing the value of y when x is zero.\n",
    "\n",
    "To find the best values for m and b that fit the data, we use a method called Ordinary Least Squares (OLS). This method calculates the values of m and b that minimize the sum of the squared differences between the observed values and the predicted values on the line. These differences are called residuals.\n",
    "\n",
    "The optimization process involves:\n",
    "\n",
    "- Calculating the sum of the product of corresponding values of x and y (Σxy).\n",
    "- Calculating the sum of the x values (Σx) and the sum of the y values (Σy).\n",
    "- Calculating the sum of the squares of the x values (Σx^2).\n",
    "- Using these sums to compute the slope m using the formula:\n",
    "m = (n(Σxy) - (Σx)(Σy)) / (n(Σx^2) - (Σx)^2)\n",
    "- Computing the y-intercept b using the formula:\n",
    "b = (Σy - m(Σx)) / n\n",
    "\n",
    "Here, n is the number of data points. After finding m and b, we can use them to predict y for any given x and to understand the relationship between x and y."
   ]
  },
  {
   "cell_type": "code",
   "execution_count": 6,
   "metadata": {
    "vscode": {
     "languageId": "java"
    }
   },
   "outputs": [
    {
     "name": "stdout",
     "output_type": "stream",
     "text": [
      "Linear Regression Model for Grade based on Commits: Grade = 1.0 * Commits + 65.0\n"
     ]
    }
   ],
   "source": [
    "import java.util.ArrayList;\n",
    "import java.util.Arrays;\n",
    "\n",
    "public class SingleVarCommitsGradeRegression {\n",
    "\n",
    "    public static void main(String[] args) {\n",
    "        // Mock data\n",
    "        ArrayList<Double> commitsData = new ArrayList<>(Arrays.asList(5.0, 10.0, 15.0, 20.0, 25.0)); // Number of commits\n",
    "        ArrayList<Double> gradeData = new ArrayList<>(Arrays.asList(70.0, 75.0, 80.0, 85.0, 90.0)); // Corresponding grades\n",
    "\n",
    "        double m = calculateSlope(commitsData, gradeData);\n",
    "        double c = calculateIntercept(commitsData, gradeData, m);\n",
    "\n",
    "        System.out.println(\"Linear Regression Model for Grade based on Commits: Grade = \" + m + \" * Commits + \" + c);\n",
    "    }\n",
    "\n",
    "    public static double calculateSlope(ArrayList<Double> commits, ArrayList<Double> grades) {\n",
    "        int n = commits.size();\n",
    "        double sumCommits = 0, sumGrades = 0, sumCommitsGrades = 0, sumCommits2 = 0;\n",
    "\n",
    "        for (int i = 0; i < n; i++) {\n",
    "            sumCommits += commits.get(i);\n",
    "            sumGrades += grades.get(i);\n",
    "            sumCommitsGrades += commits.get(i) * grades.get(i);\n",
    "            sumCommits2 += commits.get(i) * commits.get(i);\n",
    "        }\n",
    "\n",
    "        return (n * sumCommitsGrades - sumCommits * sumGrades) / (n * sumCommits2 - sumCommits * sumCommits);\n",
    "    }\n",
    "\n",
    "    public static double calculateIntercept(ArrayList<Double> commits, ArrayList<Double> grades, double m) {\n",
    "        int n = commits.size();\n",
    "        double sumGrades = 0, sumCommits = 0;\n",
    "\n",
    "        for (int i = 0; i < n; i++) {\n",
    "            sumGrades += grades.get(i);\n",
    "            sumCommits += commits.get(i);\n",
    "        }\n",
    "\n",
    "        return (sumGrades - m * sumCommits) / n;\n",
    "    }\n",
    "}\n",
    "\n",
    "SingleVarCommitsGradeRegression.main(null);"
   ]
  },
  {
   "cell_type": "markdown",
   "metadata": {},
   "source": [
    "In our context, we're trying to predict a student's grade (dependent variable) based on the number of commits they've made (independent variable). Mathematically, this relationship is represented as Grade=m×Commits+c, where m is the slope and c is the y-intercept. The slope m indicates how much the grade changes for each additional commit, while c represents the grade when there are no commits. The code calculates m and c using the method of least squares, which minimizes the sum of the squared differences between the observed grades and the grades predicted by the model. Once we have the values of m and c, we can predict the grade for any given number of commits."
   ]
  },
  {
   "cell_type": "markdown",
   "metadata": {},
   "source": [
    "# Mean Squared Error (MSE)\n",
    "\n",
    "Mean Squared Error (MSE) is a common loss function used for regression models. It measures the average squared difference between the estimated values and the actual value.\n",
    "\n",
    "## Formula\n",
    "\n",
    "The MSE is calculated as follows:\n",
    "\n",
    "MSE = (1/n) * Σ(actual - predicted)^2\n",
    "\n",
    "\n",
    "Where:\n",
    "- `n` is the number of observations\n",
    "- `Σ` is the summation symbol, meaning we sum over all observations\n",
    "- `actual` is the actual value of the data point\n",
    "- `predicted` is the predicted value from the model\n",
    "\n",
    "## Interpretation\n",
    "\n",
    "MSE is always non-negative, and a value of 0 indicates perfect predictions. The larger the number, the larger the error, and thus the worse the model's predictive accuracy.\n",
    "\n",
    "## Advantages\n",
    "\n",
    "- **Sensitivity to Large Errors**: MSE is particularly useful when you want to penalize large errors more than smaller ones since the errors are squared before they are averaged, which disproportionately penalizes larger errors.\n",
    "\n",
    "## Disadvantages\n",
    "\n",
    "- **Scale Dependency**: The MSE has the same units as the square of the output variable. This can sometimes make it difficult to interpret the MSE's magnitude.\n",
    "\n",
    "- **Impact of Outliers**: Due to squaring, outliers have a significant impact on MSE, which can skew the model evaluation if outliers are not handled properly.\n",
    "\n",
    "Remember, while MSE is a powerful tool for model evaluation, it's important to consider the context of the problem and the data when interpreting it."
   ]
  },
  {
   "cell_type": "code",
   "execution_count": 3,
   "metadata": {
    "vscode": {
     "languageId": "java"
    }
   },
   "outputs": [
    {
     "name": "stdout",
     "output_type": "stream",
     "text": [
      "Mean Squared Error: 0.010000000000000018\n"
     ]
    }
   ],
   "source": [
    "public class MSECalculator {\n",
    "    public static double calculateMSE(double[] actual, double[] predicted) {\n",
    "        if (actual.length != predicted.length) {\n",
    "            throw new IllegalArgumentException(\"Arrays must be of the same length\");\n",
    "        }\n",
    "\n",
    "        double mse = 0;\n",
    "        for (int i = 0; i < actual.length; i++) {\n",
    "            mse += Math.pow(actual[i] - predicted[i], 2);\n",
    "        }\n",
    "        return mse / actual.length;\n",
    "    }\n",
    "\n",
    "    public static void main(String[] args) {\n",
    "        // Example usage:\n",
    "        double[] actualValues = {1.0, 2.0, 3.0};\n",
    "        double[] predictedValues = {1.1, 2.1, 3.1};\n",
    "\n",
    "        double mse = calculateMSE(actualValues, predictedValues);\n",
    "        System.out.println(\"Mean Squared Error: \" + mse);\n",
    "    }\n",
    "}\n",
    "\n",
    "MSECalculator.main(null);"
   ]
  },
  {
   "cell_type": "markdown",
   "metadata": {},
   "source": [
    "The MSECalculator class in Java includes a method calculateMSE to compute the Mean Squared Error (MSE) between two arrays of actual and predicted values. It ensures both arrays are of equal length, then iterates through them to sum the squares of their differences. This sum is then averaged to yield the MSE, a key metric indicating the accuracy of predictions, with lower values indicating better performance. The main method demonstrates this calculation with example data, outputting the MSE to the console."
   ]
  }
 ],
 "metadata": {
  "kernelspec": {
   "display_name": "Java",
   "language": "java",
   "name": "java"
  },
  "language_info": {
   "codemirror_mode": "java",
   "file_extension": ".jshell",
   "mimetype": "text/x-java-source",
   "name": "Java",
   "pygments_lexer": "java",
   "version": "17.0.8+7-Ubuntu-120.04.2"
  }
 },
 "nbformat": 4,
 "nbformat_minor": 2
}
