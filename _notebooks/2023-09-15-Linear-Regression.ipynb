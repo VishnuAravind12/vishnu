{
 "cells": [
  {
   "cell_type": "markdown",
   "metadata": {},
   "source": [
    "# Linear Regression\n",
    "\n",
    "I am going to try to code a linear regression model in java. I'll have chat cook some random data up for train/test. We will start with a simple single variable regression to start, and if that goes well, I will try to code a multi-variable linear regression model."
   ]
  },
  {
   "cell_type": "markdown",
   "metadata": {},
   "source": [
    "## Short Description of Linear Regression Mathematics\n",
    "\n",
    "Linear regression aims to establish a linear relationship between the independent variable(s) and the dependent variable. The goal of linear regression is to minimize the sum of the squared differences (errors) between the observed values (actual values) and the values predicted by the model."
   ]
  },
  {
   "cell_type": "markdown",
   "metadata": {},
   "source": [
    "## Simple Linear Regression Model (Single Variable)\n",
    "\n",
    "The linear regression model can be represented by the equation: y = mx + b"
   ]
  },
  {
   "cell_type": "code",
   "execution_count": null,
   "metadata": {
    "vscode": {
     "languageId": "java"
    }
   },
   "outputs": [],
   "source": [
    "import java.util.ArrayList;\n",
    "import java.util.Arrays;\n",
    "\n",
    "public class SingleVarCommitsGradeRegression {\n",
    "\n",
    "    public static void main(String[] args) {\n",
    "        // Mock data\n",
    "        ArrayList<Double> commitsData = new ArrayList<>(Arrays.asList(5.0, 10.0, 15.0, 20.0, 25.0)); // Number of commits\n",
    "        ArrayList<Double> gradeData = new ArrayList<>(Arrays.asList(70.0, 75.0, 80.0, 85.0, 90.0)); // Corresponding grades\n",
    "\n",
    "        double m = calculateSlope(commitsData, gradeData);\n",
    "        double c = calculateIntercept(commitsData, gradeData, m);\n",
    "\n",
    "        System.out.println(\"Linear Regression Model for Grade based on Commits: Grade = \" + m + \" * Commits + \" + c);\n",
    "    }\n",
    "\n",
    "    public static double calculateSlope(ArrayList<Double> commits, ArrayList<Double> grades) {\n",
    "        int n = commits.size();\n",
    "        double sumCommits = 0, sumGrades = 0, sumCommitsGrades = 0, sumCommits2 = 0;\n",
    "\n",
    "        for (int i = 0; i < n; i++) {\n",
    "            sumCommits += commits.get(i);\n",
    "            sumGrades += grades.get(i);\n",
    "            sumCommitsGrades += commits.get(i) * grades.get(i);\n",
    "            sumCommits2 += commits.get(i) * commits.get(i);\n",
    "        }\n",
    "\n",
    "        return (n * sumCommitsGrades - sumCommits * sumGrades) / (n * sumCommits2 - sumCommits * sumCommits);\n",
    "    }\n",
    "\n",
    "    public static double calculateIntercept(ArrayList<Double> commits, ArrayList<Double> grades, double m) {\n",
    "        int n = commits.size();\n",
    "        double sumGrades = 0, sumCommits = 0;\n",
    "\n",
    "        for (int i = 0; i < n; i++) {\n",
    "            sumGrades += grades.get(i);\n",
    "            sumCommits += commits.get(i);\n",
    "        }\n",
    "\n",
    "        return (sumGrades - m * sumCommits) / n;\n",
    "    }\n",
    "}\n",
    "\n",
    "CommitsGradeRegression.main(null);"
   ]
  },
  {
   "cell_type": "markdown",
   "metadata": {},
   "source": [
    "In our context, we're trying to predict a student's grade (dependent variable) based on the number of commits they've made (independent variable). Mathematically, this relationship is represented as Grade=m×Commits+c, where m is the slope and c is the y-intercept. The slope m indicates how much the grade changes for each additional commit, while c represents the grade when there are no commits. The code calculates m and c using the method of least squares, which minimizes the sum of the squared differences between the observed grades and the grades predicted by the model. Once we have the values of m and c, we can predict the grade for any given number of commits."
   ]
  },
  {
   "cell_type": "code",
   "execution_count": 4,
   "metadata": {
    "vscode": {
     "languageId": "java"
    }
   },
   "outputs": [],
   "source": [
    "%jars /home/vishnuaa77/vscode/vishnu/lib/commons-math3-3.6.1.jar\n",
    "%jars /home/vishnuaa77/vscode/vishnu/lib/jfreechart-1.5.4.jar"
   ]
  },
  {
   "cell_type": "code",
   "execution_count": 5,
   "metadata": {
    "vscode": {
     "languageId": "java"
    }
   },
   "outputs": [
    {
     "ename": "CompilationException",
     "evalue": "",
     "output_type": "error",
     "traceback": [
      "\u001b[1m\u001b[30m|   \u001b[1m\u001b[30mimport \u001b[0m\u001b[1m\u001b[30m\u001b[41morg.jfree.chart.ChartUtilities\u001b[0m\u001b[1m\u001b[30m;\u001b[0m",
      "\u001b[1m\u001b[31mcannot find symbol\u001b[0m",
      "\u001b[1m\u001b[31m  symbol:   class ChartUtilities\u001b[0m",
      ""
     ]
    }
   ],
   "source": [
    "import org.apache.commons.math3.linear.*;\n",
    "import org.jfree.chart.ChartFactory;\n",
    "import org.jfree.chart.ChartPanel;\n",
    "import org.jfree.chart.JFreeChart;\n",
    "import org.jfree.chart.plot.PlotOrientation;\n",
    "import org.jfree.data.xy.XYSeries;\n",
    "import org.jfree.data.xy.XYSeriesCollection;\n",
    "import org.jfree.chart.ChartUtilities;\n",
    "\n",
    "\n",
    "import java.util.Arrays;\n",
    "\n",
    "public class MultiVariableLinearRegression {\n",
    "\n",
    "    public static void main(String[] args) {\n",
    "        // Mock data representing GitHub analytics for each student\n",
    "        double[][] xData = {\n",
    "            {10, 2, 500, 100},  // {Commits, Repositories Contributed To, Additions, Deletions} for student 1\n",
    "            {15, 3, 700, 150},\n",
    "            {12, 1, 650, 120},\n",
    "            {8,  2, 400, 80},\n",
    "            {20, 4, 900, 180}\n",
    "        };\n",
    "        double[] yData = {85, 90, 87, 80, 95};  // Predicted grades for the students based on their GitHub activity\n",
    "\n",
    "        // Calculate coefficients\n",
    "        double[] coefficients = calculateCoefficients(xData, yData);\n",
    "\n",
    "        System.out.println(\"Coefficients: \" + Arrays.toString(coefficients));\n",
    "\n",
    "        displayChart(xData, yData, coefficients);\n",
    "    }\n",
    "\n",
    "    public static double[] calculateCoefficients(double[][] xData, double[] yData) {\n",
    "        int n = xData.length;\n",
    "        int m = xData[0].length;\n",
    "\n",
    "        // Construct matrix X and vector Y\n",
    "        RealMatrix X = new Array2DRowRealMatrix(n, m + 1);\n",
    "        RealVector Y = new ArrayRealVector(yData, false);\n",
    "\n",
    "        for (int i = 0; i < n; i++) {\n",
    "            X.setEntry(i, 0, 1);  // Bias term\n",
    "            for (int j = 0; j < m; j++) {\n",
    "                X.setEntry(i, j + 1, xData[i][j]);\n",
    "            }\n",
    "        }\n",
    "\n",
    "        // Calculate coefficients using the formula: (X^T * X + lambda*I)^(-1) * X^T * Y\n",
    "        RealMatrix Xt = X.transpose();\n",
    "        RealMatrix XtX = Xt.multiply(X);\n",
    "        \n",
    "        // Add regularization term\n",
    "        double lambda = 0.01;  // Regularization parameter\n",
    "        RealMatrix identity = MatrixUtils.createRealIdentityMatrix(m + 1);\n",
    "        XtX = XtX.add(identity.scalarMultiply(lambda));\n",
    "\n",
    "        RealMatrix XtXInverse = new LUDecomposition(XtX).getSolver().getInverse();\n",
    "        RealVector XtY = Xt.operate(Y);\n",
    "\n",
    "        RealVector B = XtXInverse.operate(XtY);\n",
    "\n",
    "        return B.toArray();\n",
    "    }\n",
    "\n",
    "    public static void displayChart(double[][] xData, double[] yData, double[] coefficients) {\n",
    "        XYSeries series = new XYSeries(\"Students\");\n",
    "        for (int i = 0; i < xData.length; i++) {\n",
    "            series.add(xData[i][0], yData[i]);\n",
    "        }\n",
    "    \n",
    "        XYSeries regressionLine = new XYSeries(\"Regression Line\");\n",
    "        for (int i = 0; i < xData.length; i++) {\n",
    "            double predictedY = coefficients[0] + coefficients[1] * xData[i][0];\n",
    "            regressionLine.add(xData[i][0], predictedY);\n",
    "        }\n",
    "    \n",
    "        XYSeriesCollection dataset = new XYSeriesCollection();\n",
    "        dataset.addSeries(series);\n",
    "        dataset.addSeries(regressionLine);\n",
    "    \n",
    "        JFreeChart chart = ChartFactory.createXYLineChart(\n",
    "                \"Regression Analysis\",\n",
    "                \"Commits\",\n",
    "                \"Grades\",\n",
    "                dataset,\n",
    "                PlotOrientation.VERTICAL,\n",
    "                true,\n",
    "                true,\n",
    "                false\n",
    "        );\n",
    "    \n",
    "        try {\n",
    "            ChartUtilities.saveChartAsPNG(new java.io.File(\"chart.png\"), chart, 800, 600);\n",
    "            System.out.println(\"Chart saved as chart.png\");\n",
    "        } catch (java.io.IOException e) {\n",
    "            System.err.println(\"Problem occurred creating chart.\");\n",
    "        }\n",
    "    }\n",
    "}\n",
    "\n",
    "MultiVariableLinearRegression.main(null);\n"
   ]
  },
  {
   "cell_type": "markdown",
   "metadata": {},
   "source": [
    "This took quite a while to code, I had to import the Apache Commons Math3 so that I could do some of these linear operations.\n",
    "\n",
    "Ill now breakdown the code.\n",
    "\n",
    "Mock Data:\n",
    "xData: This 2D array represents the independent variables for each student. Each row corresponds to a student's GitHub analytics, and the columns represent:\n",
    "Commits\n",
    "Repositories Contributed To\n",
    "Additions\n",
    "Deletions\n",
    "yData: This array represents the dependent variable, which is the predicted grade for each student based on their GitHub activity."
   ]
  }
 ],
 "metadata": {
  "kernelspec": {
   "display_name": "Java",
   "language": "java",
   "name": "java"
  },
  "language_info": {
   "codemirror_mode": "java",
   "file_extension": ".jshell",
   "mimetype": "text/x-java-source",
   "name": "Java",
   "pygments_lexer": "java",
   "version": "17.0.8+7-Ubuntu-120.04.2"
  }
 },
 "nbformat": 4,
 "nbformat_minor": 2
}
