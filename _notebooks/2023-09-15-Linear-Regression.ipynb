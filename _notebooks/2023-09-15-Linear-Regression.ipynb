{
 "cells": [
  {
   "cell_type": "markdown",
   "metadata": {},
   "source": [
    "# Linear Regression\n",
    "\n",
    "I am going to try to code a linear regression model in java. I'll have chat cook some random data up for train/test. We will start with a simple single variable regression to start, and if that goes well, I will try to code a multi-variable linear regression model."
   ]
  },
  {
   "cell_type": "markdown",
   "metadata": {},
   "source": [
    "## Short Description of Linear Regression Mathematics\n",
    "\n",
    "Linear regression aims to establish a linear relationship between the independent variable(s) and the dependent variable. The goal of linear regression is to minimize the sum of the squared differences (errors) between the observed values (actual values) and the values predicted by the model."
   ]
  },
  {
   "cell_type": "markdown",
   "metadata": {},
   "source": [
    "## Simple Linear Regression Model (Single Variable)\n",
    "\n",
    "The linear regression model can be represented by the equation: y = mx + b"
   ]
  },
  {
   "cell_type": "code",
   "execution_count": null,
   "metadata": {},
   "outputs": [],
   "source": [
    "import java.util.ArrayList;\n",
    "import java.util.Arrays;\n",
    "\n",
    "public class CommitsGradeRegression {\n",
    "\n",
    "    public static void main(String[] args) {\n",
    "        // Mock data\n",
    "        ArrayList<Double> commitsData = new ArrayList<>(Arrays.asList(5.0, 10.0, 15.0, 20.0, 25.0)); // Number of commits\n",
    "        ArrayList<Double> gradeData = new ArrayList<>(Arrays.asList(70.0, 75.0, 80.0, 85.0, 90.0)); // Corresponding grades\n",
    "\n",
    "        double m = calculateSlope(commitsData, gradeData);\n",
    "        double c = calculateIntercept(commitsData, gradeData, m);\n",
    "\n",
    "        System.out.println(\"Linear Regression Model for Grade based on Commits: Grade = \" + m + \" * Commits + \" + c);\n",
    "    }\n",
    "\n",
    "    public static double calculateSlope(ArrayList<Double> commits, ArrayList<Double> grades) {\n",
    "        int n = commits.size();\n",
    "        double sumCommits = 0, sumGrades = 0, sumCommitsGrades = 0, sumCommits2 = 0;\n",
    "\n",
    "        for (int i = 0; i < n; i++) {\n",
    "            sumCommits += commits.get(i);\n",
    "            sumGrades += grades.get(i);\n",
    "            sumCommitsGrades += commits.get(i) * grades.get(i);\n",
    "            sumCommits2 += commits.get(i) * commits.get(i);\n",
    "        }\n",
    "\n",
    "        return (n * sumCommitsGrades - sumCommits * sumGrades) / (n * sumCommits2 - sumCommits * sumCommits);\n",
    "    }\n",
    "\n",
    "    public static double calculateIntercept(ArrayList<Double> commits, ArrayList<Double> grades, double m) {\n",
    "        int n = commits.size();\n",
    "        double sumGrades = 0, sumCommits = 0;\n",
    "\n",
    "        for (int i = 0; i < n; i++) {\n",
    "            sumGrades += grades.get(i);\n",
    "            sumCommits += commits.get(i);\n",
    "        }\n",
    "\n",
    "        return (sumGrades - m * sumCommits) / n;\n",
    "    }\n",
    "}\n",
    "\n",
    "CommitsGradeRegression.main(null);"
   ]
  },
  {
   "cell_type": "markdown",
   "metadata": {},
   "source": [
    "In our context, we're trying to predict a student's grade (dependent variable) based on the number of commits they've made (independent variable). Mathematically, this relationship is represented as Grade=m×Commits+c, where m is the slope and c is the y-intercept. The slope m indicates how much the grade changes for each additional commit, while c represents the grade when there are no commits. The code calculates m and c using the method of least squares, which minimizes the sum of the squared differences between the observed grades and the grades predicted by the model. Once we have the values of m and c, we can predict the grade for any given number of commits."
   ]
  },
  {
   "cell_type": "code",
   "execution_count": null,
   "metadata": {},
   "outputs": [],
   "source": []
  }
 ],
 "metadata": {
  "kernelspec": {
   "display_name": "Java",
   "language": "java",
   "name": "java"
  },
  "language_info": {
   "name": "java"
  }
 },
 "nbformat": 4,
 "nbformat_minor": 2
}
