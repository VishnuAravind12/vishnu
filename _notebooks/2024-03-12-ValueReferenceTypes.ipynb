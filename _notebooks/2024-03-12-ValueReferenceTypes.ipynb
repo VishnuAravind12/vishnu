{
 "cells": [
  {
   "cell_type": "markdown",
   "metadata": {},
   "source": [
    "---\n",
    "toc: true\n",
    "comments: true\n",
    "layout: notebook\n",
    "title: The difference between Value and Reference Types \n",
    "description: The difference in the application and use of Value and Reference types in Java.\n",
    "authors: Vinay, Tirth, Haseeb, Derrick\n",
    "courses: { compsci: {week: 1} }\n",
    "type: hacks\n",
    "---"
   ]
  },
  {
   "cell_type": "markdown",
   "metadata": {},
   "source": [
    "# Introduction\n",
    "- In Java, there are two main types of data types primitive/value types and reference types.  \n",
    "- We will be using the terms stack and heap here to describe memory allocation. \n",
    "    - The stack: Temporary memory were were values are stored and methods called,after a method has finished executing the memory is cleared.\n",
    "    - The heap: The heap memory is the memory created by th JVM when it is started and is used while the application is still running, it is used to allocate memory to objects and JRE classes.\n",
    "    - [Learn More](https://stackify.com/java-heap-vs-stack/#:~:text=Java%20Heap%20Space%20is%20used,be%20accessed%20throughout%20the%20application)\n",
    "- This is not typically present explicitly in any CollegeBoard questions however is a recurring theme that will need to be understood to be able to understand and solve problems on the exam.\n",
    "\n",
    "# Reference Types\n",
    "\n",
    "## General Information\n",
    "- Reference types are a subclass of the java.lang.Object class.\n",
    "- Reference types can be defined by the user\n",
    "- When two references are assigned to each other the will both point to the same object in memory.\n",
    "- When objects are passed into an object the method changes the content of the object but not the location of the object in memory.\n",
    "- A reference type is a reference to the actual data, that is they allow for us to be able to access objects stored elsewhere in memory. What typically occurs when we create a reference type the object is stored onto the stack and the value that corresponds to the object is stored in the heap. For instance if we create a Cat class: "
   ]
  },
  {
   "cell_type": "code",
   "execution_count": 1,
   "metadata": {},
   "outputs": [],
   "source": [
    "public class Cat {\n",
    "    String name;\n",
    "    int age;\n",
    "    String color;\n",
    "    String occupation;\n",
    "\n",
    "    public Cat(String name, int age, String color, String occupation) {\n",
    "        this.name = name;\n",
    "        this.age = age;\n",
    "        this.color = color;\n",
    "        this.occupation = occupation;\n",
    "    }\n",
    "}\n",
    "\n",
    "\n",
    "public static void main(String[] args) {\n",
    "    Cat MrTibbens = new Cat(\"Mr.Tibbens\", 3, \"Black\", new Occupation(\"World Domination\"));\n",
    "    Cat Khajiit = new Cat(\"Khajiit\", 5, \"White\", new Occupation(\"Thief\"));\n",
    "}"
   ]
  },
  {
   "cell_type": "markdown",
   "metadata": {},
   "source": [
    "- When we create the instances `MrTibbens` and `Khajiit` of the Cat class they are stored on the stack and the values that they represent however are stored in the heap which the reference is pointing to. So this would be their respective names, age, color, occupation, etc. The object in the stack is \"referring\" to the value stored in the stack. \n",
    "\n",
    "## Main Pre-declared Reference Types\n",
    "\n",
    "| Reference Type | Description |\n",
    "|----------|----------|\n",
    "| Annotation    | Provides a way to associate metadata (data about data) with program elements.     |\n",
    "| Array    | Provides a fixed-size data structure that stores data elements of the same type.    |\n",
    "| Class    | Designed to provide inheritance, polymorphism, and encapsulation. Usually models something in the real world and consists of a set of values that holds data and a set of methods that operates on the data. |\n",
    "| Enumeration    | A reference for a set of objects that represents a related set of choices.    |\n",
    "| Interface    | Provides a public API and is “implemented” by Java classes.    |\n",
    "\n",
    "\n",
    "*Source OREILLY\n",
    "\n",
    "### Example:"
   ]
  },
  {
   "cell_type": "code",
   "execution_count": 2,
   "metadata": {},
   "outputs": [
    {
     "name": "stdout",
     "output_type": "stream",
     "text": [
      "House Price: $500000\n",
      "House Price of House 2: $500000\n"
     ]
    }
   ],
   "source": [
    "public class refTest{\n",
    "    public static class House{\n",
    "        private int price;\n",
    "        public House(int price){\n",
    "            this.price = price;\n",
    "        }\n",
    "        public void setPrice(int newPrice){\n",
    "            this.price = newPrice;\n",
    "        }\n",
    "        public int getPrice(){\n",
    "            return this.price;\n",
    "        }\n",
    "    }\n",
    "\n",
    "    public static void main(String[] args){\n",
    "        House house1 = new House(0);\n",
    "        house1.setPrice(500000); // setting house price to $500,000, accessing same spot in memory to change\n",
    "        System.out.println(\"House Price: \" + \"$\" + house1.getPrice()); // printing the house price that was set\n",
    "        House house2 = new House(0);\n",
    "        house2 = house1; // telling house 2 to reference the same spot in memory as house 1. price should be the same :)\n",
    "        System.out.println(\"House Price of House 2: \" + \"$\" + house1.getPrice()); // printing the house price that was set\n",
    "    }\n",
    "}\n",
    "refTest.main(null);"
   ]
  },
  {
   "cell_type": "markdown",
   "metadata": {},
   "source": [
    "## Value Types\n",
    "\n",
    "# Value Types (Primitive Types)\n",
    "## General Information\n",
    "- Primitive types in Java consist of boolean and numeric types: char, byte, short, int, long, float, and double.\n",
    "- Unlike reference types, the number of primitive types is limited and predefined in the language.\n",
    "- Memory location for primitive types directly stores the actual data held by the variable, not a reference to it.\n",
    "- Memory location for primitive types not stored with a class are stored temporarily on the stack. \n",
    "\n",
    "# Differences\n",
    "\n",
    "1. Number and Definition:\n",
    "- Reference Types: Unlimited number, defined by the user.\n",
    "- Primitive Types: Limited and predefined in the language.\n",
    "\n",
    "2. Memory Location:\n",
    "- Reference Types: Stores a reference to the data in memory.\n",
    "- Primitive Types: Stores the actual data held by the variable.\n",
    "\n",
    "3. Assignment (Note the Difference!):\n",
    "- Reference Types: When assigned to another reference type, both references point to the same object in memory.\n",
    "- Primitive Types: When assigned to another variable of the same type, a copy of the data is made.\n",
    "\n",
    "4. Method Parameter Passing:\n",
    "- Reference Types: When an object is passed into a method, the method can change the contents of the object, but not the address/reference of the object.\n",
    "- Primitive Types: When a primitive is passed into a method, only a copy of the primitive is passed. The called method does not have access to the original primitive value and can only change the copied value.\n",
    "\n",
    "| Reference Types | Primitive Types |\n",
    "|----------|----------|\n",
    "| Unlimited number of reference types, as they are defined by the user. | Consists of boolean and numeric types: char, byte, short, int, long, float, and double. |\n",
    "| Memory location stores a reference to the data. | Memory location stores actual data held by the primitive type. |\n",
    "| When a reference type is assigned to another reference type, both will point to the same object. | When a value of a primitive is assigned to another variable of the same type, a copy is made.    |\n",
    "| When an object is passed into a method, the called method can change the contents of the object passed to it but not the address of the object. | When a primitive is passed into a method, only a copy of the primitive is passed. The called method does not have access to the original primitive value and therefore cannot change it. The called method can change the copied value.|\n",
    "\n",
    "*Source OREILLY\n",
    "\n"
   ]
  },
  {
   "cell_type": "code",
   "execution_count": null,
   "metadata": {},
   "outputs": [],
   "source": [
    "public class PrimitiveTypesExample {\n",
    "    public static void main(String[] args) {\n",
    "        // Declaration and initialization of primitive variables\n",
    "        boolean isJavaFun = true;\n",
    "        char grade = 'A';\n",
    "        byte byteValue = 127; // byte range: -128 to 127\n",
    "        short shortValue = 32000; // short range: -32,768 to 32,767\n",
    "        int intValue = 42;\n",
    "        long longValue = 123456789L; // The 'L' indicates a long literal\n",
    "        float floatValue = 3.14f; // The 'f' indicates a float literal\n",
    "        double doubleValue = 2.71828;\n",
    "\n",
    "        // Displaying values\n",
    "        System.out.println(\"Is Java fun? \" + isJavaFun);\n",
    "        System.out.println(\"Grade: \" + grade);\n",
    "        System.out.println(\"Byte Value: \" + byteValue);\n",
    "        System.out.println(\"Short Value: \" + shortValue);\n",
    "        System.out.println(\"Int Value: \" + intValue);\n",
    "        System.out.println(\"Long Value: \" + longValue);\n",
    "        System.out.println(\"Float Value: \" + floatValue);\n",
    "        System.out.println(\"Double Value: \" + doubleValue);\n",
    "    }\n",
    "}\n",
    "\n",
    "PrimitiveIterator.main(null);"
   ]
  },
  {
   "cell_type": "markdown",
   "metadata": {},
   "source": [
    "## Hacks\n",
    "### Part 1"
   ]
  },
  {
   "cell_type": "code",
   "execution_count": 5,
   "metadata": {},
   "outputs": [
    {
     "name": "stdout",
     "output_type": "stream",
     "text": [
      "16\n",
      "\n"
     ]
    }
   ],
   "source": [
    "public class Person {\n",
    "    String name;\n",
    "    int age;\n",
    "    int height;\n",
    "    String job;\n",
    "\n",
    "    public Person(String name, int age, int height, String job) {\n",
    "        this.name = name;\n",
    "        this.age = age;\n",
    "        this.height = height;\n",
    "        this.job = job;\n",
    "    }\n",
    "}\n",
    "\n",
    "public static void main(String[] args) {\n",
    "    Person person1 = new Person(\"Carl\", 25, 165, \"Construction Worker\");\n",
    "    Person person2 = new Person(\"Adam\", 29, 160, \"Truck Driver\");\n",
    "    Person person3 = person1;\n",
    "    int number = 16;\n",
    "    System.out.println(number);\n",
    "}\n",
    "main(null);"
   ]
  },
  {
   "cell_type": "markdown",
   "metadata": {},
   "source": [
    "Answer the following questions based on the code above:\n",
    "* a) What kind of types are person1 and person2? \n",
    "* Answer: Both person1, and person2 are reference types, pointing to places in memory.\n",
    "* b) Do person1 and person3 point to the same value in memory?\n",
    "* Answer: Yes, they point to the same value in memory. Person3 is assigned to the value of person1, so they point to the same object in memory.\n",
    "* c) Is the integer \"number\" stored in the heap or in the stack?\n",
    "* Answer: THe integer \"number\" is stored on the stack, as it is a primitive type that is defined in a method.\n",
    "* d) Is the value that \"person1\" points to stored in the heap or in the stack?\n",
    "* Answer: It is stored in the heap. "
   ]
  },
  {
   "cell_type": "markdown",
   "metadata": {},
   "source": [
    "### Part 2\n",
    "Question 1: Primitive Types vs Reference Types (Unit 1)\n",
    "\n",
    "Situation: You are developing a banking application where you need to represent customer information. You have decided to use both primitive types and reference types for this purpose.\n",
    "\n",
    "(a) Define primitive types and reference types in Java. Provide examples of each.\n",
    "\n",
    "(b) Explain the differences between primitive types and reference types in terms of memory allocation and usage in Java programs.\n",
    "\n",
    "(c) Code:\n",
    "\n",
    "You have a method `calculateInterest` that takes a primitive `double` type representing the principal amount and a reference type `Customer` representing the customer information. Write the method signature and the method implementation. Include comments to explain your code.\n"
   ]
  },
  {
   "cell_type": "markdown",
   "metadata": {},
   "source": [
    "### (a) Primitive Types and Reference Types in Java\n",
    "\n",
    "In Java, there are two major categories of data types: primitive types and reference types.\n",
    "\n",
    "**Primitive Types:** These are the most basic kinds of data types and directly contain values. Java provides 8 primitive types which include `byte`, `short`, `int`, `long`, `float`, `double`, `char`, and `boolean`. They are stored in the call stack, which allows for fast access but has a limited size.\n",
    "\n",
    "- **Examples:**\n",
    "  - `int age = 30;` (An integer value)\n",
    "  - `double salary = 5000.00;` (A double precision floating-point number)\n",
    "  - `boolean isEmployed = true;` (A boolean value true or false)\n",
    "\n",
    "**Reference Types:** These include any data type that derives from a class or an interface, including arrays. Reference types do not store the actual value, but a reference (or address) to the memory where the value is stored. This memory location is in the heap, which is a larger, but slower-to-access memory area.\n",
    "\n",
    "- **Examples:**\n",
    "  - `String name = \"John Doe\";` (A String object)\n",
    "  - `Integer ageObject = new Integer(30);` (An Integer object)\n",
    "  - `Customer customer = new Customer();` (A Customer object, assuming a Customer class exists)\n",
    "\n",
    "### (b) Differences Between Primitive Types and Reference Types\n",
    "\n",
    "**Memory Allocation:**\n",
    "- **Primitive Types:** Stored directly in the stack. The stack is more efficient but has less space. Each primitive type has a fixed size; for example, an `int` is always 4 bytes.\n",
    "- **Reference Types:** The reference (or address) is stored in the stack, but the actual object is stored in the heap. The heap has more space but is slower to access. The size of a reference type can vary depending on the object's attributes.\n",
    "\n",
    "**Usage:**\n",
    "- **Primitive Types:** Used for basic data and cannot be null. Operations on primitive types are generally faster due to direct value access.\n",
    "- **Reference Types:** Can represent more complex data structures and can be null. They support methods (behaviors) and fields (states).\n",
    "\n",
    "### (c) Code: `calculateInterest` Method\n",
    "\n",
    "Assuming a `Customer` class exists, here is how the `calculateInterest` method could be implemented."
   ]
  },
  {
   "cell_type": "code",
   "execution_count": null,
   "metadata": {},
   "outputs": [],
   "source": [
    "public class BankApplication {\n",
    "\n",
    "    /**\n",
    "     * Represents customer information.\n",
    "     */\n",
    "    static class Customer {\n",
    "        // Assuming there are attributes and methods relevant to a Customer\n",
    "        String name;\n",
    "        // Constructor, getters, setters, etc., are assumed to be defined here.\n",
    "    }\n",
    "    \n",
    "    /**\n",
    "     * Calculates the interest based on the principal amount for a given customer.\n",
    "     * \n",
    "     * @param principal The principal amount as a primitive double.\n",
    "     * @param customer The customer for whom the interest is being calculated.\n",
    "     * @return The calculated interest amount as a double.\n",
    "     */\n",
    "    public static double calculateInterest(double principal, Customer customer) {\n",
    "        final double interestRate = 0.05; // Example interest rate of 5%\n",
    "        \n",
    "        // Calculate interest\n",
    "        double interest = principal * interestRate;\n",
    "        \n",
    "        // This could include more complex logic based on customer attributes if needed.\n",
    "        return interest;\n",
    "    }\n",
    "    \n",
    "    // Example usage\n",
    "    public static void main(String[] args) {\n",
    "        Customer customer = new Customer();\n",
    "        customer.name = \"John Doe\";\n",
    "        \n",
    "        double principal = 10000.00; // Principal amount\n",
    "        double interest = calculateInterest(principal, customer);\n",
    "        \n",
    "        System.out.println(\"Interest for \" + customer.name + \": $\" + interest);\n",
    "    }\n",
    "}"
   ]
  },
  {
   "cell_type": "markdown",
   "metadata": {},
   "source": [
    "**Explanation:**\n",
    "- The `calculateInterest` method takes two parameters: a primitive `double` type `principal`, which represents the principal amount of money, and a reference type `Customer`, representing the customer's information.\n",
    "- A constant `interestRate` is defined within the method to calculate the interest. This is a simplified example; in a real application, the interest rate might vary based on different factors, possibly including attributes of the `Customer` object.\n",
    "- The method calculates the interest by multiplying the principal amount by the interest rate and returns this value.\n",
    "- In the `main` method, an instance of `Customer` is created, and its `name` attribute is set. The `calculateInterest` method is then called with a sample principal amount and the `Customer` object, and the calculated interest is printed to the console."
   ]
  }
 ],
 "metadata": {
  "kernelspec": {
   "display_name": "Java",
   "language": "java",
   "name": "java"
  },
  "language_info": {
   "codemirror_mode": "java",
   "file_extension": ".jshell",
   "mimetype": "text/x-java-source",
   "name": "java",
   "pygments_lexer": "java",
   "version": "3.11.6"
  }
 },
 "nbformat": 4,
 "nbformat_minor": 2
}
