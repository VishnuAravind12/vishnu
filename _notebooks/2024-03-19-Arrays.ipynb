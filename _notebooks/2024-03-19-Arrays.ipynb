{
 "cells": [
  {
   "cell_type": "markdown",
   "metadata": {},
   "source": [
    "---\n",
    "title: CORN group ( FRQ 1 - ArrayLists)\n",
    "description: Lesson with FRQ 2017 using COOOORN!\n",
    "toc: true\n",
    "layout: post\n",
    "---"
   ]
  },
  {
   "cell_type": "markdown",
   "metadata": {},
   "source": [
    "# ArraysList Overview\n",
    "\n",
    "## Important Vocabulary\n",
    "**Array** is a data structure used to implement a list of primitive or object data\n",
    "**Element** is a single value within the array\n",
    "The **index of an element** is the position of the element within the array\n",
    "    - For Java, the first element is at index 0\n",
    "The **length** of an array is the number of elements in the array\n",
    "    - <code>length</code> is a <code>public final</code> data member of an array\n",
    "        - Since <code>length</code> is <code>public</code>, we can access it in any class\n",
    "        - Since <code>length</code> is final, we cannot change an array's length after it has been created\n",
    "        \n",
    "In Java, the last element of an array list is at index <code>list.length - 1</code>"
   ]
  },
  {
   "cell_type": "markdown",
   "metadata": {},
   "source": [
    "# 2017 FRQ #1\n",
    "\n",
    "[View FRQ here](https://apcentral.collegeboard.org/media/pdf/ap-computer-science-a-frq-2017.pdf)\n",
    "\n",
    "\n",
    "## Syntax to remember\n",
    "\n",
    "- This part importantly declares an array and references the '.add' function\n",
    "\n",
    "Remember the syntax:\n",
    "```Java \n",
    "// declare the array list\n",
    "[arrayListName] = new ArrayList<Integer>();\n",
    "\n",
    "// add to the list\n",
    "[arrayListName].add([position], [value])\n",
    "// ---OR---\n",
    "[arrayListName].add([value])\n",
    "\n",
    "// get from the list at a position\n",
    "[arrayListName].get([position]);\n",
    "\n",
    "// modify a list at a specific position\n",
    "[arrayListName].set([position], [value]);\n",
    "\n",
    "// get the size of an array\n",
    "[arrayListName].size();\n",
    "\n",
    "// not pertaining to arrays but still good to know\n",
    "// the .intValue() method is used to convert an object of a wrapper class for primitive types (such as Integer, Double, Float, etc.) into its corresponding primitive int value.\n",
    "Integer integerValue = new Integer(10); // Creating an Integer object with value 10\n",
    "int intValue = integerValue.intValue(); // Extracting the int value from the Integer object\n",
    "// This is needed because java arrayLists store wrapper objects for 'int' primitive values\n",
    "```"
   ]
  },
  {
   "cell_type": "code",
   "execution_count": null,
   "metadata": {
    "vscode": {
     "languageId": "java"
    }
   },
   "outputs": [],
   "source": [
    "public class Digits\n",
    "{\n",
    "    private ArrayList<Integer> digitList;\n",
    "\n",
    "    // Part (a)\n",
    "    public Digits(int num)\n",
    "    {\n",
    "        digitList = new ArrayList<Integer>();\n",
    "        if (num == 0)\n",
    "        {\n",
    "            digitList.add(new Integer(0));\n",
    "        }\n",
    "        while (num > 0)\n",
    "        {\n",
    "            digitList.add(0, new Integer(num % 10));\n",
    "            num /= 10;\n",
    "        }\n",
    "    }\n",
    "\n",
    "    // Part (b)\n",
    "    public boolean isStrictlyIncreasing()\n",
    "    {\n",
    "        for (int i = 0; i < digitList.size()-1; i++)\n",
    "        {\n",
    "            if (digitList.get(i).intValue() >= digitList.get(i+1).intValue())\n",
    "            {\n",
    "                return false;\n",
    "            }\n",
    "        }\n",
    "        return true;\n",
    "    } \n",
    "} "
   ]
  },
  {
   "cell_type": "markdown",
   "metadata": {},
   "source": [
    "# Common Mistakes\n",
    "\n",
    "1. Failure to use the `intValue()` method.\n",
    "   - This is important because Java by default stores data in arrayLists using wrapper classes liek `Interger`. In this case the wrapper class needs to be converted into a primitive `int` datatype to perform operations on it.\n",
    "\n",
    "2. Failure to use `num % 10` or `num /= 10`.\n",
    "   - These lines are meant to target the last digit to either add to the arrayList or to remove from the integer \n",
    "\n"
   ]
  },
  {
   "cell_type": "markdown",
   "metadata": {},
   "source": [
    "### (a) Definition and Significance of Arrays in Java\n",
    "\n",
    "An **array** in Java is a container object that holds a fixed number of values of a single type. The length of an array is established when the array is created and cannot be changed after creation. Each item in an array is called an element, and each element is accessed by its numerical index, with the first element being at index 0.\n",
    "\n",
    "**Significance and Usefulness:**\n",
    "Arrays are fundamental data structures in programming, used to store collections of data. They are particularly useful when there is a need to organize data for easy access by a numeric index. Here are some key points that highlight the significance of arrays:\n",
    "\n",
    "- **Efficiency:** Arrays are stored in contiguous memory locations, which makes accessing elements by their index very efficient.\n",
    "- **Simplicity:** Arrays provide a straightforward way to implement and manage collections of variables of the same type.\n",
    "- **Use Cases:** Arrays are used in a wide range of applications, from simple data storage to being the building blocks for more complex data structures. They are especially useful in scenarios where the number of elements is known beforehand, and elements need to be quickly accessed by index.\n",
    "- **Looping:** Arrays can be easily iterated over using loops, making them ideal for processing collections of data.\n",
    "\n",
    "### (b) Code: `calculateAverageGrade` Method\n",
    "\n",
    "Here is how the `calculateAverageGrade` method can be implemented. This method calculates the average grade from an array of integers representing student grades."
   ]
  },
  {
   "cell_type": "code",
   "execution_count": 1,
   "metadata": {
    "vscode": {
     "languageId": "java"
    }
   },
   "outputs": [
    {
     "name": "stdout",
     "output_type": "stream",
     "text": [
      "Average Grade: 83.0\n"
     ]
    }
   ],
   "source": [
    "public class StudentManagementSystem {\n",
    "    \n",
    "    /**\n",
    "     * Calculates the average grade for an array of grades.\n",
    "     * \n",
    "     * @param grades An array of integers representing student grades.\n",
    "     * @return The average grade as a double.\n",
    "     */\n",
    "    public static double calculateAverageGrade(int[] grades) {\n",
    "        if (grades == null || grades.length == 0) {\n",
    "            // Return 0.0 if the grades array is null or empty.\n",
    "            return 0.0;\n",
    "        }\n",
    "        \n",
    "        double sum = 0; // Initialize sum of all grades to 0.\n",
    "        \n",
    "        // Iterate over each grade in the array and add it to the sum.\n",
    "        for (int grade : grades) {\n",
    "            sum += grade;\n",
    "        }\n",
    "        \n",
    "        // Calculate the average by dividing the total sum by the number of grades.\n",
    "        double average = sum / grades.length;\n",
    "        \n",
    "        // Return the calculated average.\n",
    "        return average;\n",
    "    }\n",
    "    \n",
    "    // Example usage\n",
    "    public static void main(String[] args) {\n",
    "        int[] studentGrades = {90, 85, 92, 78, 65, 88}; // Example array of grades\n",
    "        double averageGrade = calculateAverageGrade(studentGrades);\n",
    "        \n",
    "        System.out.println(\"Average Grade: \" + averageGrade);\n",
    "    }\n",
    "}\n",
    "\n",
    "StudentManagementSystem.main(null);"
   ]
  },
  {
   "cell_type": "markdown",
   "metadata": {},
   "source": [
    "**Explanation:**\n",
    "- The `calculateAverageGrade` method takes an array of integers `grades` as its parameter.\n",
    "- The method first checks if the `grades` array is `null` or empty (`grades.length == 0`) and returns `0.0` in such cases to avoid division by zero or processing an invalid array.\n",
    "- It then iterates over each grade in the array, adding each grade to a cumulative sum.\n",
    "- After iterating through all grades, the method calculates the average by dividing the total sum by the number of grades in the array.\n",
    "- The calculated average is returned as a `double`. This ensures that the average is precise even when the division result is not a whole number."
   ]
  }
 ],
 "metadata": {
  "kernelspec": {
   "display_name": "Java",
   "language": "java",
   "name": "java"
  },
  "language_info": {
   "codemirror_mode": "java",
   "file_extension": ".jshell",
   "mimetype": "text/x-java-source",
   "name": "Java",
   "pygments_lexer": "java",
   "version": "17.0.8+7-Ubuntu-120.04.2"
  }
 },
 "nbformat": 4,
 "nbformat_minor": 2
}
