{
 "cells": [
  {
   "cell_type": "code",
   "execution_count": 1,
   "metadata": {},
   "outputs": [
    {
     "name": "stdout",
     "output_type": "stream",
     "text": [
      "Hello World!\n"
     ]
    }
   ],
   "source": [
    "// Define Static Method within a Class\n",
    "public class HelloStatic {\n",
    "    // Java standard runtime entry point\n",
    "    public static void main(String[] args) {    \n",
    "        System.out.println(\"Hello World!\");\n",
    "    }\n",
    "}\n",
    "// A method call allows us to execute code that is wrapped in Class\n",
    "HelloStatic.main(null);   // Class prefix allows reference of Static Method"
   ]
  },
  {
   "cell_type": "code",
   "execution_count": 14,
   "metadata": {},
   "outputs": [
    {
     "name": "stdout",
     "output_type": "stream",
     "text": [
      "Hello, World!\n"
     ]
    }
   ],
   "source": [
    "// Define Class with Constructor returning Object\n",
    "public class HelloObject {\n",
    "    private String hello;   // instance attribute or variable\n",
    "    public HelloObject() {  // constructor\n",
    "        hello = \"Hello, World!\";\n",
    "    }\n",
    "    public String getHello() {  // getter, returns value from inside the object\n",
    "        return this.hello;  // return String from object\n",
    "    }\n",
    "    public static void main(String[] args) {    \n",
    "        HelloObject ho = new HelloObject(); // Instance of Class (ho) is an Object via \"new HelloObject()\"\n",
    "        System.out.println(ho.getHello()); // Object allows reference to public methods and data\n",
    "    }\n",
    "}\n",
    "// IJava activation\n",
    "HelloObject.main(null);"
   ]
  },
  {
   "cell_type": "code",
   "execution_count": 13,
   "metadata": {},
   "outputs": [
    {
     "name": "stdout",
     "output_type": "stream",
     "text": [
      "Chill!\n",
      "Hello, Nighthawk Coding Society!\n"
     ]
    }
   ],
   "source": [
    "// Define Class\n",
    "public class HelloDynamic { // name the first letter of class as capitalized, note camel case\n",
    "    // instance variable have access modifier (private is most common), data type, and name\n",
    "    private String hello;\n",
    "    // constructor signature 1, public and zero arguments, constructors do not have return type\n",
    "    public HelloDynamic() {  // 0 argument constructor\n",
    "        this.setHello(\"Chill!\");  // using setter with static string\n",
    "    }\n",
    "    // constructor signature, public and one argument\n",
    "    public HelloDynamic(String hello) { // 1 argument constructor\n",
    "        this.setHello(hello);   // using setter with local variable passed into constructor\n",
    "    }\n",
    "    // setter/mutator, setter have void return type and a parameter\n",
    "    public void setHello(String hello) { // setter\n",
    "        this.hello = hello;     // instance variable on the left, local variable on the right\n",
    "    }\n",
    "    // getter/accessor, getter used to return private instance variable (encapsulated), return type is String\n",
    "    public String getHello() {  // getter\n",
    "        return this.hello;\n",
    "    }\n",
    "    // public static void main(String[] args) is signature for main/drivers/tester method\n",
    "    // a driver/tester method is singular or called a class method, it is never part of an object\n",
    "    public static void main(String[] args) {  \n",
    "        HelloDynamic hd1 = new HelloDynamic(); // no argument constructor\n",
    "        HelloDynamic hd2 = new HelloDynamic(\"Hello, Nighthawk Coding Society!\"); // one argument constructor\n",
    "        System.out.println(hd1.getHello()); // accessing getter\n",
    "        System.out.println(hd2.getHello()); \n",
    "    }\n",
    "}\n",
    "// IJava activation\n",
    "HelloDynamic.main(null);"
   ]
  },
  {
   "cell_type": "code",
   "execution_count": 1,
   "metadata": {},
   "outputs": [
    {
     "name": "stdout",
     "output_type": "stream",
     "text": [
      "Vishnu\n",
      "17\n"
     ]
    }
   ],
   "source": [
    "public class Person {\n",
    "    private String name;\n",
    "    private int age;\n",
    "\n",
    "    public Person(String name, int age) {\n",
    "        this.setName(name);\n",
    "        this.setAge(age);\n",
    "    }\n",
    "\n",
    "    public void setName(String name) {\n",
    "        this.name = name;\n",
    "    }\n",
    "\n",
    "    public void setAge(int age) {\n",
    "        if(age >= 0) {\n",
    "            this.age = age;\n",
    "        }\n",
    "    }\n",
    "\n",
    "    public String getName() {\n",
    "        return this.name;\n",
    "    }\n",
    "\n",
    "    public int getAge() {\n",
    "        return this.age;\n",
    "    }\n",
    "\n",
    "    public static void main(String[] args) {  \n",
    "        Person p1 = new Person(\"Vishnu\", 17);\n",
    "        System.out.println(p1.getName());\n",
    "        System.out.println(p1.getAge());\n",
    "    }\n",
    "}\n",
    "\n",
    "Person.main(null);"
   ]
  },
  {
   "cell_type": "code",
   "execution_count": 6,
   "metadata": {},
   "outputs": [
    {
     "name": "stdout",
     "output_type": "stream",
     "text": [
      "cake\n",
      "8.99\n"
     ]
    }
   ],
   "source": [
    "public class Dessert {\n",
    "    private String type;\n",
    "    private double cost;\n",
    "\n",
    "    public Dessert(String type, double cost) {\n",
    "        this.setType(type);\n",
    "        this.setCost(cost);\n",
    "    }\n",
    "\n",
    "    public void setType(String type) {\n",
    "        this.type = type;\n",
    "    }\n",
    "\n",
    "    public void setCost(double cost) {\n",
    "        this.cost = cost;\n",
    "    }\n",
    "\n",
    "    public String getType() {\n",
    "        return type;\n",
    "    }\n",
    "\n",
    "    public double getCost() {\n",
    "        return cost;\n",
    "    }\n",
    "\n",
    "    public static void main(String[] args) {  \n",
    "        Dessert dessert1 = new Dessert(\"cake\", 8.99);\n",
    "        System.out.println(dessert1.getType());\n",
    "        System.out.println(dessert1.getCost());\n",
    "    }\n",
    "}\n",
    "\n",
    "Dessert.main(null);"
   ]
  },
  {
   "cell_type": "code",
   "execution_count": 8,
   "metadata": {},
   "outputs": [
    {
     "name": "stdout",
     "output_type": "stream",
     "text": [
      "City: San Diego, State: CA, Zip: 92127\n"
     ]
    }
   ],
   "source": [
    "public class Location {\n",
    "    private String city;\n",
    "    private String state;\n",
    "    private String zip;\n",
    "\n",
    "    public Location(String city, String state, String zip) {\n",
    "        this.setCity(city);\n",
    "        this.setState(state);\n",
    "        this.setZip(zip);\n",
    "    }\n",
    "\n",
    "    public void setCity(String city) {\n",
    "        this.city = city;\n",
    "    }\n",
    "\n",
    "    public void setState(String state) {\n",
    "        this.state = state;\n",
    "    }\n",
    "\n",
    "    public void setZip(String zip) {\n",
    "        this.zip = zip;\n",
    "    }\n",
    "\n",
    "    public String getCity() {\n",
    "        return city;\n",
    "    }\n",
    "\n",
    "    public String getState() {\n",
    "        return state;\n",
    "    }\n",
    "\n",
    "    public String getZip() {\n",
    "        return zip;\n",
    "    }\n",
    "\n",
    "    @Override\n",
    "    public String toString() {\n",
    "        return \"City: \" + city + \", State: \" + state + \", Zip: \" + zip;\n",
    "    }\n",
    "\n",
    "    public static void main(String[] args) {\n",
    "        Location loc = new Location(\"San Diego\", \"CA\", \"92127\");\n",
    "        System.out.println(loc);\n",
    "    }\n",
    "}\n",
    "\n",
    "Location.main(null);"
   ]
  }
 ],
 "metadata": {
  "kernelspec": {
   "display_name": "Java",
   "language": "java",
   "name": "java"
  },
  "language_info": {
   "codemirror_mode": "java",
   "file_extension": ".jshell",
   "mimetype": "text/x-java-source",
   "name": "Java",
   "pygments_lexer": "java",
   "version": "17.0.8+7-Ubuntu-120.04.2"
  }
 },
 "nbformat": 4,
 "nbformat_minor": 2
}
