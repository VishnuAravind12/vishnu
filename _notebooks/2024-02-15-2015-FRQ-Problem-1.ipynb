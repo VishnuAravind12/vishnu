{
 "cells": [
  {
   "cell_type": "markdown",
   "metadata": {},
   "source": [
    "# Arrays/Arraylists Problem\n",
    "\n",
    "1.This question involves reasoning about one-dimensional and two-dimensional arrays of integers. You will write three static methods, all of which are in a single enclosing class, named DiverseArray (not shown). The first method returns the sum of the values of a one-dimensional array; the second method returns an array that represents the sums of the rows of a two-dimensional array; and the third method analyzes row sums."
   ]
  },
  {
   "cell_type": "markdown",
   "metadata": {},
   "source": [
    "(a) Write a static method arraySum that calculates and returns the sum of the entries in a specified one-dimensional array. The following example shows an array arr1 and the value returned by a call to arraySum."
   ]
  },
  {
   "cell_type": "code",
   "execution_count": 4,
   "metadata": {
    "vscode": {
     "languageId": "java"
    }
   },
   "outputs": [
    {
     "name": "stdout",
     "output_type": "stream",
     "text": [
      "The sum of the numbers in the array is: 16\n"
     ]
    }
   ],
   "source": [
    "public class DiverseArray {\n",
    "    \n",
    "    public static int arraySum (int[] arr) {\n",
    "        int sum = 0;\n",
    "        \n",
    "        for (int i = 0; i < arr.length; i++) {\n",
    "            sum += arr[i];\n",
    "        }\n",
    "        \n",
    "        return sum;\n",
    "    }\n",
    "\n",
    "    public static void main (String args[]) {\n",
    "        int[] testArray = {1, 3, 2, 7, 3};\n",
    "        int sum = arraySum(testArray);\n",
    "        System.out.println(\"The sum of the numbers in the array is: \" + sum);\n",
    "    }\n",
    "\n",
    "}\n",
    "\n",
    "DiverseArray.main(null);"
   ]
  },
  {
   "cell_type": "markdown",
   "metadata": {},
   "source": [
    "(b) Write a static method rowSums that calculates the sums of each of the rows in a given two-dimensional array and returns these sums in a one-dimensional array. The method has one parameter, a two-dimensional array arr2D of int values. The array is in row-major order: arr2D[r][c] is the entry at row r and column c. The method returns a one-dimensional array with one entry for each row of arr2D such that each entry is the sum of the corresponding row in arr2D. As a reminder, each row of a two-dimensional array is a one-dimensional array"
   ]
  },
  {
   "cell_type": "code",
   "execution_count": 5,
   "metadata": {
    "vscode": {
     "languageId": "java"
    }
   },
   "outputs": [
    {
     "name": "stdout",
     "output_type": "stream",
     "text": [
      "The sums of the rows are : [16, 32, 28, 20]\n"
     ]
    }
   ],
   "source": [
    "import java.util.Arrays;\n",
    "\n",
    "public class DiverseArray {\n",
    "    \n",
    "    public static int arraySum (int[] arr) {\n",
    "        int sum = 0;\n",
    "        \n",
    "        for (int i = 0; i < arr.length; i++) {\n",
    "            sum += arr[i];\n",
    "        }\n",
    "        \n",
    "        return sum;\n",
    "    }\n",
    "\n",
    "    public static int[] rowSums (int[][] arr2D) {\n",
    "        int numRows = arr2D.length;\n",
    "        int[] summedRows = new int[numRows];\n",
    "\n",
    "        for (int i = 0; i < numRows; i++) {\n",
    "            int sumRow = arraySum (arr2D[i]);\n",
    "            summedRows[i] = sumRow;\n",
    "        }\n",
    "\n",
    "        return summedRows;\n",
    "    }\n",
    "\n",
    "    public static void main (String args[]) {\n",
    "        int[][] mat1 = {\n",
    "            {1, 3, 2, 7, 3},\n",
    "            {10, 10, 4, 6, 2},\n",
    "            {5, 3, 5, 9, 6},\n",
    "            {7, 6, 4, 2, 1}\n",
    "        };\n",
    "        \n",
    "        int[] result = rowSums(mat1);\n",
    "        System.out.println(\"The sums of the rows are : \" + Arrays.toString(result));\n",
    "    }\n",
    "}\n",
    "\n",
    "DiverseArray.main(null);"
   ]
  },
  {
   "cell_type": "markdown",
   "metadata": {},
   "source": [
    "(c) Write a static method isDiverse that determines whether or not a given two-dimensional array is diverse. The method has one parameter: a two-dimensional array arr2D of int values. The method should return true if all the row sums in the given array are unique; otherwise, it should return false. In the arrays shown above, the call isDiverse(mat1) returns true and the call isDiverse(mat2) returns false."
   ]
  },
  {
   "cell_type": "code",
   "execution_count": 7,
   "metadata": {
    "vscode": {
     "languageId": "java"
    }
   },
   "outputs": [
    {
     "name": "stdout",
     "output_type": "stream",
     "text": [
      "mat1 returns: true\n",
      "mat2 returns: false\n"
     ]
    }
   ],
   "source": [
    "public class DiverseArray {\n",
    "    \n",
    "    public static int arraySum (int[] arr) {\n",
    "        int sum = 0;\n",
    "        \n",
    "        for (int i = 0; i < arr.length; i++) {\n",
    "            sum += arr[i];\n",
    "        }\n",
    "        \n",
    "        return sum;\n",
    "    }\n",
    "\n",
    "    public static int[] rowSums (int[][] arr2D) {\n",
    "        int numRows = arr2D.length;\n",
    "        int[] summedRows = new int[numRows];\n",
    "\n",
    "        for (int i = 0; i < numRows; i++) {\n",
    "            int sumRow = arraySum (arr2D[i]);\n",
    "            summedRows[i] = sumRow;\n",
    "        }\n",
    "\n",
    "        return summedRows;\n",
    "    }\n",
    "\n",
    "    public static boolean isDiverse(int[][] arr2D) {\n",
    "        int[] summedRowArr = rowSums(arr2D);\n",
    "\n",
    "        for (int i = 0; i < summedRowArr.length; i++) {\n",
    "            int marker = summedRowArr[i];\n",
    "\n",
    "            for (int j = i+1; j < summedRowArr.length; j++) {\n",
    "                if (marker == summedRowArr[j]) {\n",
    "                    return false;\n",
    "                }\n",
    "            }\n",
    "        }\n",
    "        return true;\n",
    "    }\n",
    "\n",
    "    public static void main (String args[]) {\n",
    "        int[][] mat1 = {\n",
    "            {1, 3, 2, 7, 3},\n",
    "            {10, 10, 4, 6, 2},\n",
    "            {5, 3, 5, 9, 6},\n",
    "            {7, 6, 4, 2, 1}\n",
    "        };\n",
    "\n",
    "        int[][] mat2 = {\n",
    "            {1, 1, 5, 3, 4},\n",
    "            {12, 7, 6, 1, 9},\n",
    "            {8, 11, 10, 2, 5},\n",
    "            {3, 2, 3, 0, 6}\n",
    "        };\n",
    "\n",
    "        System.out.println(\"mat1 returns: \" + isDiverse(mat1));\n",
    "        System.out.println(\"mat2 returns: \" + isDiverse(mat2));\n",
    "    }\n",
    "}\n",
    "\n",
    "\n",
    "DiverseArray.main(null);"
   ]
  },
  {
   "cell_type": "markdown",
   "metadata": {},
   "source": [
    "In Part A, I implemented the `arraySum` method to calculate the sum of elements in a one-dimensional array. This method was foundational, as it provided a basic yet crucial operation that I could reuse in subsequent parts of the problem.\n",
    "\n",
    "For Part B, I extended the concept to two-dimensional arrays with the `rowSums` method. Here, I utilized nested loops to iterate through each row of the 2D array, applying the `arraySum` method to each row.\n",
    "\n",
    "Part C, the `isDiverse` method, was where I integrated the components from Parts A and B to assess a more complex condition: the uniqueness of row sums in a 2D array. This required an understanding of how to compare elements within an array and identify unique values. The solution I developed for this part not only utilized the earlier `rowSums` method but also involved additional logic to check for uniqueness among sums.\n",
    "\n",
    "Throughout this FRQ, my focus was on writing clear, efficient code. I relied on iterative loops to navigate through array elements, ensuring that each step of the process was logically sound and adhered to the problem requirements."
   ]
  },
  {
   "cell_type": "code",
   "execution_count": null,
   "metadata": {
    "vscode": {
     "languageId": "java"
    }
   },
   "outputs": [],
   "source": [
    "for (int iteration = 0; iteration < maxIterations; iteration++) {\n",
    "    List<Double> predictions = predict(x_train);\n",
    "    // Update coefficients and intercept\n",
    "    double interceptGradient = 0.0;\n",
    "    List<Double> slopeGradients = new ArrayList<>(coefficients.size());\n",
    "\n",
    "    for (int i = 0; i < slopeGradients.size(); i++) {\n",
    "        slopeGradients.set(i, 0.0);\n",
    "    }\n",
    "\n",
    "    for (int i = 0; i < x_train.size(); i++) {\n",
    "        double predicted = predictions.get(i);\n",
    "        interceptGradient += predicted - y_train.get(i);\n",
    "        for (int j = 0; j < coefficients.size() - 1; j++) {\n",
    "            slopeGradients.set(j, slopeGradients.get(j) + (predicted - y_train.get(i)) * x_train.get(i));\n",
    "        }\n",
    "    }\n",
    "\n",
    "    intercept -= learningRate * interceptGradient / x_train.size();\n",
    "    for (int i = 0; i < coefficients.size() - 1; i++) {\n",
    "        coefficients.set(i, coefficients.get(i) - learningRate * slopeGradients.get(i) / x_train.size());\n",
    "    }\n",
    "}"
   ]
  },
  {
   "cell_type": "markdown",
   "metadata": {},
   "source": [
    "From our Group Final Project, specifically the Logistic Regression Model, the above is an excerpt of code that really showcases the capabilities of ArrayLists in Java. The model is used, in tandem with a linear regressor, to project a player's stats. The key part of the code that highlights the use of ArrayLists is in the `train` method, where we update the coefficients and intercept for the regression model. This part is crucial because it iteratively adjusts the model parameters based on the training data to improve the model's predictions.\n",
    "\n",
    "In this excerpt, I used ArrayLists to manage and dynamically update the coefficients and slope gradients. Unlike fixed-size arrays, ArrayLists in Java can resize dynamically, which is particularly useful in machine learning contexts like ours where the number of features (and thus coefficients) can vary.\n",
    "\n",
    "Moreover, the ease of accessing and modifying elements in an ArrayList is demonstrated in this section of the code. Through the use of the `get` and `set` methods, I efficiently update the slope gradients and coefficients during each iteration of the training process.\n",
    "\n",
    "Another significant aspect of using ArrayLists here is their ability to store complex data types, like `Double` objects in our case. This feature is especially useful in data science and machine learning applications, where handling floating-point numbers is common."
   ]
  }
 ],
 "metadata": {
  "kernelspec": {
   "display_name": "Java",
   "language": "java",
   "name": "java"
  },
  "language_info": {
   "codemirror_mode": "java",
   "file_extension": ".jshell",
   "mimetype": "text/x-java-source",
   "name": "Java",
   "pygments_lexer": "java",
   "version": "17.0.8+7-Ubuntu-120.04.2"
  }
 },
 "nbformat": 4,
 "nbformat_minor": 2
}
