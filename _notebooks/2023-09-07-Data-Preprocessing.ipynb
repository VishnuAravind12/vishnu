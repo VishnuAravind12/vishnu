{
 "cells": [
  {
   "cell_type": "markdown",
   "metadata": {},
   "source": [
    "---\n",
    "title: Basic Data Preprocessing\n",
    "layout: post\n",
    "---"
   ]
  },
  {
   "cell_type": "markdown",
   "metadata": {},
   "source": [
    "# Basic Data Preprocessing\n",
    "\n",
    "Data preprocessing is a huge part of any ML project, even a relatively simple one that I want to do in the future."
   ]
  },
  {
   "cell_type": "markdown",
   "metadata": {},
   "source": [
    "I feel like there are three main functions I want to be able to do in Java for data prep.\n",
    "\n",
    "Handling missing values, converting categorical data to numerical data, and normalizing or standaradizing data."
   ]
  },
  {
   "cell_type": "markdown",
   "metadata": {},
   "source": [
    "## Handling Missing Values\n",
    "\n",
    "Remove: Simply remove rows with missing values. This is straightforward but can lead to loss of data. I probably don't want to go this route.\n",
    "<br>\n",
    "Impute: Replace missing values with a specific value, like the mean, median, or mode of the column. Seems valid enough\n",
    "<br>\n",
    "Predict: Use algorithms or models to predict and fill missing values based on other columns. This just leads to complexity that we don't have time for."
   ]
  },
  {
   "cell_type": "code",
   "execution_count": 3,
   "metadata": {},
   "outputs": [
    {
     "name": "stdout",
     "output_type": "stream",
     "text": [
      "Data after removing rows with missing values or null sum: [[1.0, 2.0, 3.0], [7.0, 8.0, 9.0]]\n"
     ]
    }
   ],
   "source": [
    "import java.util.ArrayList;\n",
    "import java.util.Arrays;\n",
    "\n",
    "public class DataPreprocessing {\n",
    "\n",
    "    public static void main(String[] args) {\n",
    "        ArrayList<ArrayList<Double>> data = new ArrayList<>(); // Making a sample 2d array\n",
    "        data.add(new ArrayList<>(Arrays.asList(1.0, 2.0, 3.0)));\n",
    "        data.add(new ArrayList<>(Arrays.asList(4.0, null, 6.0)));\n",
    "        data.add(new ArrayList<>(Arrays.asList(7.0, 8.0, 9.0)));\n",
    "        data.add(new ArrayList<>(Arrays.asList(10.0, 11.0, null)));\n",
    "\n",
    "        // Remove rows with null values or where the sum is null\n",
    "        data.removeIf(row -> row.contains(null));\n",
    "\n",
    "        System.out.println(\"Data after removing rows with missing values or null sum: \" + data);\n",
    "    }\n",
    "}\n",
    "\n",
    "DataPreprocessing.main(null);"
   ]
  },
  {
   "cell_type": "code",
   "execution_count": 4,
   "metadata": {},
   "outputs": [
    {
     "name": "stdout",
     "output_type": "stream",
     "text": [
      "Data after imputing missing values with row mean: [[1.0, 2.0, 3.0], [4.0, 5.0, 6.0], [7.0, 8.0, 9.0], [10.0, 11.0, 10.5]]\n"
     ]
    }
   ],
   "source": [
    "import java.util.ArrayList;\n",
    "import java.util.Arrays;\n",
    "\n",
    "public class DataPreprocessing {\n",
    "\n",
    "    public static void main(String[] args) {\n",
    "        ArrayList<ArrayList<Double>> data = new ArrayList<>();\n",
    "        data.add(new ArrayList<>(Arrays.asList(1.0, 2.0, 3.0)));\n",
    "        data.add(new ArrayList<>(Arrays.asList(4.0, null, 6.0)));\n",
    "        data.add(new ArrayList<>(Arrays.asList(7.0, 8.0, 9.0)));\n",
    "        data.add(new ArrayList<>(Arrays.asList(10.0, 11.0, null)));\n",
    "\n",
    "        for (ArrayList<Double> row : data) {\n",
    "            imputeMissingWithRowMean(row);\n",
    "        }\n",
    "\n",
    "        System.out.println(\"Data after imputing missing values with row mean: \" + data);\n",
    "    }\n",
    "\n",
    "    public static void imputeMissingWithRowMean(ArrayList<Double> row) {\n",
    "        double sum = 0;\n",
    "        int count = 0;\n",
    "        for (Double value : row) {\n",
    "            if (value != null) {\n",
    "                sum += value;\n",
    "                count++;\n",
    "            }\n",
    "        }\n",
    "        double mean = sum / count;\n",
    "\n",
    "        for (int i = 0; i < row.size(); i++) {\n",
    "            if (row.get(i) == null) {\n",
    "                row.set(i, mean);\n",
    "            }\n",
    "        }\n",
    "    }\n",
    "}\n",
    "\n",
    "DataPreprocessing.main(null);"
   ]
  },
  {
   "cell_type": "markdown",
   "metadata": {},
   "source": [
    "## Categorical Data to Numerical\n",
    "\n",
    "One-Hot Encoding: Convert each category value into a new column and assign a 1 or 0 (True/False) value. This is what I normally do.\n",
    "<br>\n",
    "Label Encoding: Assign each category a unique integer. For instance, 'Red' might be 1, 'Blue' 2, and 'Green' 3."
   ]
  },
  {
   "cell_type": "code",
   "execution_count": 6,
   "metadata": {},
   "outputs": [
    {
     "name": "stdout",
     "output_type": "stream",
     "text": [
      "Data after One-Hot Encoding: [[1, 0, 0], [0, 1, 0], [0, 0, 1], [1, 0, 0]]\n"
     ]
    }
   ],
   "source": [
    "import java.util.ArrayList;\n",
    "import java.util.Arrays;\n",
    "import java.util.HashMap;\n",
    "import java.util.Map;\n",
    "\n",
    "public class OneHotEncoding {\n",
    "\n",
    "    public static void main(String[] args) {\n",
    "        ArrayList<ArrayList<String>> data = new ArrayList<>();\n",
    "        data.add(new ArrayList<>(Arrays.asList(\"Red\")));\n",
    "        data.add(new ArrayList<>(Arrays.asList(\"Blue\")));\n",
    "        data.add(new ArrayList<>(Arrays.asList(\"Green\")));\n",
    "        data.add(new ArrayList<>(Arrays.asList(\"Red\")));\n",
    "\n",
    "        ArrayList<ArrayList<Integer>> encodedData = oneHotEncode(data);\n",
    "\n",
    "        System.out.println(\"Data after One-Hot Encoding: \" + encodedData);\n",
    "    }\n",
    "\n",
    "    public static ArrayList<ArrayList<Integer>> oneHotEncode(ArrayList<ArrayList<String>> data) {\n",
    "        Map<String, Integer> categories = new HashMap<>();\n",
    "        int index = 0;\n",
    "        for (ArrayList<String> row : data) {\n",
    "            for (String value : row) {\n",
    "                if (!categories.containsKey(value)) {\n",
    "                    categories.put(value, index++);\n",
    "                }\n",
    "            }\n",
    "        }\n",
    "\n",
    "        ArrayList<ArrayList<Integer>> encodedData = new ArrayList<>();\n",
    "        for (ArrayList<String> row : data) {\n",
    "            ArrayList<Integer> encodedRow = new ArrayList<>(categories.size());\n",
    "            for (int i = 0; i < categories.size(); i++) {\n",
    "                encodedRow.add(0);\n",
    "            }\n",
    "            for (String value : row) {\n",
    "                int categoryIndex = categories.get(value);\n",
    "                encodedRow.set(categoryIndex, 1);\n",
    "            }\n",
    "            encodedData.add(encodedRow);\n",
    "        }\n",
    "\n",
    "        return encodedData;\n",
    "    }\n",
    "}\n",
    "\n",
    "OneHotEncoding.main(null);\n"
   ]
  },
  {
   "cell_type": "code",
   "execution_count": 8,
   "metadata": {},
   "outputs": [
    {
     "name": "stdout",
     "output_type": "stream",
     "text": [
      "Data after Label Encoding: [[1], [2], [3], [1]]\n"
     ]
    }
   ],
   "source": [
    "import java.util.ArrayList;\n",
    "import java.util.Arrays;\n",
    "import java.util.HashMap;\n",
    "import java.util.Map;\n",
    "\n",
    "public class LabelEncoding {\n",
    "\n",
    "    public static void main(String[] args) {\n",
    "        ArrayList<ArrayList<String>> data = new ArrayList<>();\n",
    "        data.add(new ArrayList<>(Arrays.asList(\"Red\")));\n",
    "        data.add(new ArrayList<>(Arrays.asList(\"Blue\")));\n",
    "        data.add(new ArrayList<>(Arrays.asList(\"Green\")));\n",
    "        data.add(new ArrayList<>(Arrays.asList(\"Red\")));\n",
    "\n",
    "        ArrayList<ArrayList<Integer>> encodedData = labelEncode(data);\n",
    "\n",
    "        System.out.println(\"Data after Label Encoding: \" + encodedData);\n",
    "    }\n",
    "\n",
    "    public static ArrayList<ArrayList<Integer>> labelEncode(ArrayList<ArrayList<String>> data) {\n",
    "        Map<String, Integer> categories = new HashMap<>();\n",
    "        int index = 1;\n",
    "        for (ArrayList<String> row : data) {\n",
    "            for (String value : row) {\n",
    "                if (!categories.containsKey(value)) {\n",
    "                    categories.put(value, index++);\n",
    "                }\n",
    "            }\n",
    "        }\n",
    "\n",
    "        ArrayList<ArrayList<Integer>> encodedData = new ArrayList<>();\n",
    "        for (ArrayList<String> row : data) {\n",
    "            ArrayList<Integer> encodedRow = new ArrayList<>();\n",
    "            for (String value : row) {\n",
    "                encodedRow.add(categories.get(value));\n",
    "            }\n",
    "            encodedData.add(encodedRow);\n",
    "        }\n",
    "\n",
    "        return encodedData;\n",
    "    }\n",
    "}\n",
    "\n",
    "LabelEncoding.main(null);\n"
   ]
  },
  {
   "cell_type": "markdown",
   "metadata": {},
   "source": [
    "## Normalizing or Standaradizing Data\n",
    "\n",
    "Havn't normalized too much in the past as I just hoped the weights of the model would adjust for discrepancies.\n",
    "\n",
    "Normalizing: This process scales the data between 0 and 1. The formula for normalization is: normalized value = (value − min)/(max − min)\n",
    "<br>\n",
    "Standardization:  This process scales the data based on the mean (μ) and standard deviation (σ) so that the new data has a mean of 0 and a standard deviation of 1. The formula for standardization is: standardized value = (value - μ)/σ"
   ]
  },
  {
   "cell_type": "code",
   "execution_count": 10,
   "metadata": {},
   "outputs": [
    {
     "name": "stdout",
     "output_type": "stream",
     "text": [
      "Row Normalized Data: [[0.0, 0.5, 1.0], [0.0, 0.5, 1.0], [0.0, 0.5, 1.0]]\n"
     ]
    }
   ],
   "source": [
    "import java.util.ArrayList;\n",
    "import java.util.Arrays;\n",
    "\n",
    "public class RowNormalization {\n",
    "\n",
    "    public static void main(String[] args) {\n",
    "        ArrayList<ArrayList<Double>> data = new ArrayList<>();\n",
    "        data.add(new ArrayList<>(Arrays.asList(10.0, 20.0, 30.0)));\n",
    "        data.add(new ArrayList<>(Arrays.asList(40.0, 50.0, 60.0)));\n",
    "        data.add(new ArrayList<>(Arrays.asList(70.0, 80.0, 90.0)));\n",
    "\n",
    "        ArrayList<ArrayList<Double>> normalizedData = normalizeByRow(data);\n",
    "\n",
    "        System.out.println(\"Row Normalized Data: \" + normalizedData);\n",
    "    }\n",
    "\n",
    "    public static ArrayList<ArrayList<Double>> normalizeByRow(ArrayList<ArrayList<Double>> data) {\n",
    "        ArrayList<ArrayList<Double>> normalizedData = new ArrayList<>();\n",
    "\n",
    "        for (ArrayList<Double> row : data) {\n",
    "            double min = Double.MAX_VALUE;\n",
    "            double max = Double.MIN_VALUE;\n",
    "\n",
    "            // Find min and max values for the row\n",
    "            for (Double value : row) {\n",
    "                if (value < min) min = value;\n",
    "                if (value > max) max = value;\n",
    "            }\n",
    "\n",
    "            ArrayList<Double> normalizedRow = new ArrayList<>();\n",
    "            for (Double value : row) {\n",
    "                double normalizedValue = (value - min) / (max - min);\n",
    "                normalizedRow.add(normalizedValue);\n",
    "            }\n",
    "            normalizedData.add(normalizedRow);\n",
    "        }\n",
    "\n",
    "        return normalizedData;\n",
    "    }\n",
    "}\n",
    "\n",
    "RowNormalization.main(null);"
   ]
  },
  {
   "cell_type": "code",
   "execution_count": 11,
   "metadata": {},
   "outputs": [
    {
     "name": "stdout",
     "output_type": "stream",
     "text": [
      "Row Standardized Data: [[-1.224744871391589, 0.0, 1.224744871391589], [-1.224744871391589, 0.0, 1.224744871391589], [-1.224744871391589, 0.0, 1.224744871391589]]\n"
     ]
    }
   ],
   "source": [
    "import java.util.ArrayList;\n",
    "import java.util.Arrays;\n",
    "\n",
    "public class RowStandardization {\n",
    "\n",
    "    public static void main(String[] args) {\n",
    "        ArrayList<ArrayList<Double>> data = new ArrayList<>();\n",
    "        data.add(new ArrayList<>(Arrays.asList(10.0, 20.0, 30.0)));\n",
    "        data.add(new ArrayList<>(Arrays.asList(40.0, 50.0, 60.0)));\n",
    "        data.add(new ArrayList<>(Arrays.asList(70.0, 80.0, 90.0)));\n",
    "\n",
    "        ArrayList<ArrayList<Double>> standardizedData = standardizeByRow(data);\n",
    "\n",
    "        System.out.println(\"Row Standardized Data: \" + standardizedData);\n",
    "    }\n",
    "\n",
    "    public static ArrayList<ArrayList<Double>> standardizeByRow(ArrayList<ArrayList<Double>> data) {\n",
    "        ArrayList<ArrayList<Double>> standardizedData = new ArrayList<>();\n",
    "\n",
    "        for (ArrayList<Double> row : data) {\n",
    "            double mean = 0;\n",
    "            double sum = 0;\n",
    "            double stdDev = 0;\n",
    "\n",
    "            // Calculate mean for the row\n",
    "            for (Double value : row) {\n",
    "                sum += value;\n",
    "            }\n",
    "            mean = sum / row.size();\n",
    "\n",
    "            // Calculate standard deviation for the row\n",
    "            sum = 0;\n",
    "            for (Double value : row) {\n",
    "                sum += Math.pow(value - mean, 2);\n",
    "            }\n",
    "            stdDev = Math.sqrt(sum / row.size());\n",
    "\n",
    "            ArrayList<Double> standardizedRow = new ArrayList<>();\n",
    "            for (Double value : row) {\n",
    "                double standardizedValue = (value - mean) / stdDev;\n",
    "                standardizedRow.add(standardizedValue);\n",
    "            }\n",
    "            standardizedData.add(standardizedRow);\n",
    "        }\n",
    "\n",
    "        return standardizedData;\n",
    "    }\n",
    "}\n",
    "\n",
    "RowStandardization.main(null);"
   ]
  }
 ],
 "metadata": {
  "kernelspec": {
   "display_name": "Java",
   "language": "java",
   "name": "java"
  },
  "language_info": {
   "codemirror_mode": "java",
   "file_extension": ".jshell",
   "mimetype": "text/x-java-source",
   "name": "java",
   "pygments_lexer": "java",
   "version": "17.0.8+7-Ubuntu-120.04.2"
  }
 },
 "nbformat": 4,
 "nbformat_minor": 2
}
