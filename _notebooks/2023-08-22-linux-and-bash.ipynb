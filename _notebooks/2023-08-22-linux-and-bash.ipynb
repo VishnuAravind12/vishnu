{
 "cells": [
  {
   "cell_type": "code",
   "execution_count": 1,
   "metadata": {},
   "outputs": [
    {
     "name": "stdout",
     "output_type": "stream",
     "text": [
      "Python is installed.\n",
      "Python Version:\n",
      "Python 3.8.10\n"
     ]
    }
   ],
   "source": [
    "%%script bash\n",
    "\n",
    "if command -v python &> /dev/null\n",
    "then\n",
    "    echo \"Python is installed.\"\n",
    "    echo \"Python Version:\"\n",
    "    python --version\n",
    "else\n",
    "    echo \"Python is not installed.\"\n",
    "fi"
   ]
  },
  {
   "cell_type": "code",
   "execution_count": 4,
   "metadata": {},
   "outputs": [
    {
     "name": "stdout",
     "output_type": "stream",
     "text": [
      "Java is installed.\n",
      "Java Version:\n",
      "openjdk 17.0.8 2023-07-18\n",
      "OpenJDK Runtime Environment (build 17.0.8+7-Ubuntu-120.04.2)\n",
      "OpenJDK 64-Bit Server VM (build 17.0.8+7-Ubuntu-120.04.2, mixed mode, sharing)\n"
     ]
    }
   ],
   "source": [
    "%%script bash\n",
    "\n",
    "if command -v java &> /dev/null\n",
    "then\n",
    "    echo \"Java is installed.\"\n",
    "    echo \"Java Version:\"\n",
    "    java --version\n",
    "else\n",
    "    echo \"Java is not installed.\"\n",
    "fi"
   ]
  },
  {
   "cell_type": "code",
   "execution_count": 6,
   "metadata": {},
   "outputs": [
    {
     "name": "stdout",
     "output_type": "stream",
     "text": [
      "Git is installed.\n",
      "Git Version:\n",
      "git version 2.25.1\n"
     ]
    }
   ],
   "source": [
    "%%script bash\n",
    "\n",
    "if command -v git &> /dev/null\n",
    "then\n",
    "    echo \"Git is installed.\"\n",
    "    echo \"Git Version:\"\n",
    "    git --version\n",
    "else\n",
    "    echo \"Git is not installed.\"\n",
    "fi"
   ]
  },
  {
   "cell_type": "code",
   "execution_count": 7,
   "metadata": {},
   "outputs": [
    {
     "name": "stderr",
     "output_type": "stream",
     "text": [
      "UsageError: %%script is a cell magic, but the cell body is empty.\n"
     ]
    }
   ],
   "source": [
    "%%script bash\n",
    "\n",
    "echo \"Updating repository from GitHub...\"\n",
    "cd path/to/your/repository\n",
    "git pull origin master\n",
    "echo \"Repository updated.\""
   ]
  },
  {
   "cell_type": "code",
   "execution_count": null,
   "metadata": {},
   "outputs": [],
   "source": [
    "%%script bash\n",
    "\n",
    "if command -v docker &> /dev/null\n",
    "then\n",
    "    echo \"Docker is installed.\"\n",
    "    echo \"Docker Version:\"\n",
    "    docker --version\n",
    "else\n",
    "    echo \"Docker is not installed.\"\n",
    "fi"
   ]
  },
  {
   "cell_type": "code",
   "execution_count": 8,
   "metadata": {},
   "outputs": [
    {
     "name": "stdout",
     "output_type": "stream",
     "text": [
      "Jupyter Notebook is installed.\n",
      "Jupyter Notebook Version:\n",
      "jupyter core     : 4.6.3\n",
      "jupyter-notebook : 6.0.3\n",
      "qtconsole        : not installed\n",
      "ipython          : 7.13.0\n",
      "ipykernel        : 5.2.0\n",
      "jupyter client   : 6.1.2\n",
      "jupyter lab      : not installed\n",
      "nbconvert        : 5.6.1\n",
      "ipywidgets       : 6.0.0\n",
      "nbformat         : 5.0.4\n",
      "traitlets        : 4.3.3\n"
     ]
    }
   ],
   "source": [
    "%%script bash\n",
    "\n",
    "if command -v jupyter &> /dev/null\n",
    "then\n",
    "    echo \"Jupyter Notebook is installed.\"\n",
    "    echo \"Jupyter Notebook Version:\"\n",
    "    jupyter --version\n",
    "else\n",
    "    echo \"Jupyter Notebook is not installed.\"\n",
    "fi"
   ]
  },
  {
   "cell_type": "code",
   "execution_count": null,
   "metadata": {},
   "outputs": [],
   "source": [
    "%%script bash\n",
    "\n",
    "if command -v code &> /dev/null\n",
    "then\n",
    "    echo \"VSCode is installed.\"\n",
    "    echo \"VSCode Version:\"\n",
    "    code --version\n",
    "else\n",
    "    echo \"VSCode is not installed.\"\n",
    "fi"
   ]
  }
 ],
 "metadata": {
  "kernelspec": {
   "display_name": "Python 3",
   "language": "python",
   "name": "python3"
  },
  "language_info": {
   "codemirror_mode": {
    "name": "ipython",
    "version": 3
   },
   "file_extension": ".py",
   "mimetype": "text/x-python",
   "name": "python",
   "nbconvert_exporter": "python",
   "pygments_lexer": "ipython3",
   "version": "3.8.10"
  },
  "orig_nbformat": 4
 },
 "nbformat": 4,
 "nbformat_minor": 2
}
