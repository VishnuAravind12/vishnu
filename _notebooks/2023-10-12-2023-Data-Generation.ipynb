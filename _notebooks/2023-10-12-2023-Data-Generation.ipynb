{
 "cells": [
  {
   "cell_type": "markdown",
   "metadata": {},
   "source": [
    "# Data Generation\n",
    "\n",
    "For our computer science meets canvas esque project, my team have decided to put me in charge of data analysis. In a CS class, I believe that the most important data related to a student would be their GitHub statisitcs. Below were the steps I took to get to a somewhat representative mock data generator."
   ]
  },
  {
   "cell_type": "markdown",
   "metadata": {},
   "source": [
    "## Step 1: Simple Data Generation\n",
    "\n",
    "I began by simulating a basic dataset. My goal was to generate a set of random numbers to represent one aspect of my data - specifically, the number of commits by students. I utilized Java's Random class, which provides a straightforward way to generate random numbers. The random.nextDouble() method gave me a double between 0.0 and 1.0, which I scaled to the range I needed."
   ]
  },
  {
   "cell_type": "code",
   "execution_count": 2,
   "metadata": {
    "vscode": {
     "languageId": "java"
    }
   },
   "outputs": [],
   "source": [
    "%jars /home/vishnuaa77/vscode/vishnu/lib/jfreechart-1.5.4.jar\n",
    "%jars /home/vishnuaa77/vscode/vishnu/lib/jcommon-1.0.24.jar\n",
    "\n",
    "import org.jfree.chart.ChartFactory;\n",
    "import org.jfree.chart.ChartUtils;\n",
    "import org.jfree.chart.JFreeChart;\n",
    "import org.jfree.chart.plot.PlotOrientation;\n",
    "import org.jfree.data.xy.XYSeries;\n",
    "import org.jfree.data.xy.XYSeriesCollection;\n",
    "\n",
    "import java.io.File;\n",
    "\n",
    "public class DataVisualization {\n",
    "\n",
    "    public static void generateAndSaveChart(double[] xData, double[] yData, String title, String xAxisLabel, String yAxisLabel, String filePath) {\n",
    "        XYSeries series = new XYSeries(title);\n",
    "        for (int i = 0; i < xData.length; i++) {\n",
    "            series.add(xData[i], yData[i]);\n",
    "        }\n",
    "        XYSeriesCollection dataset = new XYSeriesCollection(series);\n",
    "        JFreeChart chart = ChartFactory.createScatterPlot(\n",
    "                title,\n",
    "                xAxisLabel,\n",
    "                yAxisLabel,\n",
    "                dataset,\n",
    "                PlotOrientation.VERTICAL,\n",
    "                true,\n",
    "                true,\n",
    "                false\n",
    "        );\n",
    "\n",
    "        try {\n",
    "            ChartUtils.saveChartAsPNG(new File(filePath), chart, 800, 600);\n",
    "            System.out.println(\"Chart has been saved as \" + filePath);\n",
    "        } catch (Exception e) {\n",
    "            System.err.println(\"Problem occurred creating chart.\");\n",
    "        }\n",
    "    }\n",
    "}"
   ]
  },
  {
   "cell_type": "code",
   "execution_count": 3,
   "metadata": {
    "vscode": {
     "languageId": "java"
    }
   },
   "outputs": [],
   "source": [
    "import java.util.Random;\n",
    "\n",
    "public class MockDataGenerator {\n",
    "    private static final Random random = new Random();\n",
    "\n",
    "    public static double[] generateCommits(int numStudents) {\n",
    "        double[] commits = new double[numStudents];\n",
    "        for (int i = 0; i < numStudents; i++) {\n",
    "            commits[i] = 30 + random.nextDouble() * 170; // Uniformly distributed\n",
    "        }\n",
    "        return commits;\n",
    "    }\n",
    "    // ... other methods will be added here ...\n",
    "    \n",
    "    public static void main(String[] args) {\n",
    "        MockDataGenerator.main(null);\n",
    "    }\n",
    "}"
   ]
  },
  {
   "cell_type": "markdown",
   "metadata": {},
   "source": [
    "## Step 2: Introducing Skewness\n",
    "\n",
    "Data in the real world isn't always uniformly distributed. For example, I noticed that most students might have a lower number of commits, with only a few having very high numbers. To simulate this, I skewed the distribution by squaring the random number, which biased the data towards the lower end."
   ]
  },
  {
   "cell_type": "code",
   "execution_count": 5,
   "metadata": {
    "vscode": {
     "languageId": "java"
    }
   },
   "outputs": [
    {
     "name": "stdout",
     "output_type": "stream",
     "text": [
      "Chart has been saved as step2_chart.png\n"
     ]
    }
   ],
   "source": [
    "// Step 2: Introducing Skewness\n",
    "public class SkewedDataGenerator {\n",
    "    private static final Random random = new Random();\n",
    "\n",
    "    public static void main(String[] args) {\n",
    "        double[] skewedCommits = generateSkewedCommits(250);\n",
    "        double[] grades = generateGrades(skewedCommits);\n",
    "        DataVisualization.generateAndSaveChart(skewedCommits, grades, \"Grade vs Skewed Commits\", \"Skewed Commits\", \"Grades\", \"step2_chart.png\");\n",
    "    }\n",
    "\n",
    "    public static double[] generateSkewedCommits(int numStudents) {\n",
    "        double[] commits = new double[numStudents];\n",
    "        for (int i = 0; i < numStudents; i++) {\n",
    "            // Skewing the data towards lower numbers\n",
    "            commits[i] = 30 + (int) (Math.pow(random.nextDouble(), 2) * 170);\n",
    "        }\n",
    "        return commits;\n",
    "    }\n",
    "\n",
    "    // Placeholder for generating grades based on skewed commits\n",
    "    public static double[] generateGrades(double[] commits) {\n",
    "        double[] grades = new double[commits.length];\n",
    "        for (int i = 0; i < commits.length; i++) {\n",
    "            grades[i] = Math.min(100, commits[i] / 2); // Simplistic grade calculation\n",
    "        }\n",
    "        return grades;\n",
    "    }\n",
    "}\n",
    "\n",
    "SkewedDataGenerator.main(null);"
   ]
  },
  {
   "cell_type": "markdown",
   "metadata": {},
   "source": [
    "![Step 2: Grade vs Skewed Commits](step2_chart.png)\n",
    "\n",
    "## Step 3: Adding More Variables\n",
    "\n",
    "Next, I considered additional variables that could affect a student's performance. Besides commits, students might also contribute through pull requests, issues, and by contributing to different repositories. I hypothesized that these activities were somewhat proportional to the number of commits, so I generated them based on the commits data."
   ]
  },
  {
   "cell_type": "code",
   "execution_count": 8,
   "metadata": {
    "vscode": {
     "languageId": "java"
    }
   },
   "outputs": [
    {
     "name": "stdout",
     "output_type": "stream",
     "text": [
      "Chart has been saved as step3_chart_Commits.png\n",
      "Chart has been saved as step3_chart_PullRequests.png\n",
      "Chart has been saved as step3_chart_Issues.png\n",
      "Chart has been saved as step3_chart_ReposContributed.png\n"
     ]
    }
   ],
   "source": [
    "public class MultipleVariablesDataGenerator {\n",
    "    private static final Random random = new Random();\n",
    "\n",
    "    public static void main(String[] args) {\n",
    "        double[][] xData = generateMultipleVariables(250);\n",
    "        double[] grades = generateGradesBasedOnMultipleVariables(xData);\n",
    "        // Generate and save a chart for each variable\n",
    "        for (int i = 0; i < xData[0].length; i++) {\n",
    "            double[] singleVariableData = extractSingleVariable(xData, i);\n",
    "            String variableName = getVariableName(i);\n",
    "            DataVisualization.generateAndSaveChart(singleVariableData, grades, \"Grade vs \" + variableName, variableName, \"Grades\", \"step3_chart_\" + variableName + \".png\");\n",
    "        }\n",
    "    }\n",
    "\n",
    "    public static double[] generateSkewedCommits(int numStudents) {\n",
    "        double[] commits = new double[numStudents];\n",
    "        for (int i = 0; i < numStudents; i++) {\n",
    "            commits[i] = 30 + (int) (Math.pow(random.nextDouble(), 2) * 170); // Skewed towards 30\n",
    "        }\n",
    "        return commits;\n",
    "    }\n",
    "\n",
    "    public static double[][] generateMultipleVariables(int numStudents) {\n",
    "        double[][] xData = new double[numStudents][4];\n",
    "        for (int i = 0; i < numStudents; i++) {\n",
    "            xData[i][0] = generateSkewedCommits(numStudents)[i]; // Commits\n",
    "            xData[i][1] = 5 + (int) (xData[i][0] * 0.25 * random.nextDouble()); // Pull Requests\n",
    "            xData[i][2] = 10 + (int) (xData[i][0] * 0.5 * random.nextDouble()); // Issues\n",
    "            xData[i][3] = 2 + (int) (xData[i][0] * 0.1 * random.nextDouble()); // Repos Contributed\n",
    "        }\n",
    "        return xData;\n",
    "    }\n",
    "\n",
    "    // Placeholder for generating grades based on multiple variables\n",
    "    public static double[] generateGradesBasedOnMultipleVariables(double[][] xData) {\n",
    "        double[] grades = new double[xData.length];\n",
    "        for (int i = 0; i < xData.length; i++) {\n",
    "            grades[i] = Math.min(100, (xData[i][0] + xData[i][1] + xData[i][2] + xData[i][3]) / 4); // Simplistic grade calculation\n",
    "        }\n",
    "        return grades;\n",
    "    }\n",
    "\n",
    "    public static double[] extractSingleVariable(double[][] xData, int variableIndex) {\n",
    "        double[] singleVariableData = new double[xData.length];\n",
    "        for (int i = 0; i < xData.length; i++) {\n",
    "            singleVariableData[i] = xData[i][variableIndex];\n",
    "        }\n",
    "        return singleVariableData;\n",
    "    }\n",
    "\n",
    "    public static String getVariableName(int index) {\n",
    "        switch (index) {\n",
    "            case 0:\n",
    "                return \"Commits\";\n",
    "            case 1:\n",
    "                return \"PullRequests\";\n",
    "            case 2:\n",
    "                return \"Issues\";\n",
    "            case 3:\n",
    "                return \"ReposContributed\";\n",
    "            default:\n",
    "                return \"Unknown\";\n",
    "        }\n",
    "    }\n",
    "}\n",
    "\n",
    "MultipleVariablesDataGenerator.main(null);"
   ]
  },
  {
   "cell_type": "markdown",
   "metadata": {},
   "source": [
    "![Grade vs Commits](step3_chart_Commits.png)\n",
    "![Grade vs PullRequests](step3_chart_PullRequests.png)\n",
    "![Grade vs Issues](step3_chart_Issues.png)\n",
    "![Grade vs ReposContributed](step3_chart_ReposContributed.png)\n",
    "\n",
    "## Step 4: Generating and Refining the Grade\n",
    "\n",
    "In this step, I focused on the dependent variable, which is the grade. It's calculated based on GitHub activities: commits, pull requests, issues, and repositories contributed to. Each activity has a different weight in the final grade: commits (0.4), pull requests (0.2), issues (0.2), and repositories contributed to (0.2).\n",
    "\n",
    "To ensure fairness and realism in grading, I capped the maximum grade at 100 and applied a logarithmic scale to moderate the influence of higher activity counts. This approach prevents disproportionately high grades for extreme values."
   ]
  },
  {
   "cell_type": "code",
   "execution_count": 17,
   "metadata": {
    "vscode": {
     "languageId": "java"
    }
   },
   "outputs": [
    {
     "name": "stdout",
     "output_type": "stream",
     "text": [
      "Chart has been saved as step4_Chart_Commits.png\n",
      "Chart has been saved as step4_Chart_PullRequests.png\n",
      "Chart has been saved as step4_Chart_Issues.png\n",
      "Chart has been saved as step4_Chart_ReposContributed.png\n"
     ]
    }
   ],
   "source": [
    "public class GradeDataGenerator {\n",
    "    private static final Random random = new Random();\n",
    "\n",
    "    public static void main(String[] args) {\n",
    "        double[][] xData = generateMultipleVariables(250);\n",
    "        double[] grades = generateGrades(xData);\n",
    "        \n",
    "        // Generate and save charts for each variable\n",
    "        String[] descriptors = {\"Commits\", \"PullRequests\", \"Issues\", \"ReposContributed\"};\n",
    "        for (int i = 0; i < descriptors.length; i++) {\n",
    "            DataVisualization.generateAndSaveChart(\n",
    "                extractSingleVariable(xData, i),\n",
    "                grades,\n",
    "                \"Grade vs \" + descriptors[i],\n",
    "                descriptors[i],\n",
    "                \"Grades\",\n",
    "                \"step4_Chart_\" + descriptors[i] + \".png\"\n",
    "            );\n",
    "        }\n",
    "    }\n",
    "\n",
    "    public static double[] generateSkewedCommits(int numStudents) {\n",
    "        double[] commits = new double[numStudents];\n",
    "        for (int i = 0; i < numStudents; i++) {\n",
    "            commits[i] = 30 + (int) (Math.pow(random.nextDouble(), 2) * 170); // Skewed towards 30\n",
    "        }\n",
    "        return commits;\n",
    "    }\n",
    "\n",
    "    public static double[][] generateMultipleVariables(int numStudents) {\n",
    "        double[][] xData = new double[numStudents][4];\n",
    "        for (int i = 0; i < numStudents; i++) {\n",
    "            xData[i][0] = generateSkewedCommits(numStudents)[i]; // Commits\n",
    "            xData[i][1] = 5 + (int) (xData[i][0] * 0.25 * random.nextDouble()); // Pull Requests\n",
    "            xData[i][2] = 10 + (int) (xData[i][0] * 0.5 * random.nextDouble()); // Issues\n",
    "            xData[i][3] = 2 + (int) (xData[i][0] * 0.1 * random.nextDouble()); // Repos Contributed\n",
    "        }\n",
    "        return xData;\n",
    "    }\n",
    "\n",
    "    public static double[] generateGrades(double[][] xData) {\n",
    "        double[] grades = new double[xData.length];\n",
    "        for (int i = 0; i < xData.length; i++) {\n",
    "            grades[i] = calculateGrade(\n",
    "                (int) xData[i][0], // Commits\n",
    "                (int) xData[i][1], // Pull Requests\n",
    "                (int) xData[i][2], // Issues\n",
    "                (int) xData[i][3]  // Repos Contributed\n",
    "            );\n",
    "        }\n",
    "        return grades;\n",
    "    }\n",
    "\n",
    "    private static double calculateGrade(int commits, int pullRequests, int issues, int reposContributed) {\n",
    "        double commitGrade = Math.min(100, 70 + (30 * (1 - 1 / Math.log(commits + 1))));\n",
    "        double pullRequestGrade = Math.min(100, 70 + (30 * (1 - 1 / Math.log(pullRequests + 1))));\n",
    "        double issueGrade = Math.min(100, 70 + (30 * (1 - 1 / Math.log(issues + 1))));\n",
    "        double repoGrade = Math.min(100, 70 + (30 * (1 - 1 / Math.log(reposContributed + 1))));\n",
    "\n",
    "        // Weights: Commits 0.4, Pull Requests 0.2, Issues 0.2, Repos Contributed 0.2\n",
    "        return 0.4 * commitGrade + 0.2 * pullRequestGrade + 0.2 * issueGrade + 0.2 * repoGrade;\n",
    "    }\n",
    "\n",
    "    // Helper method to extract a single variable from the 2D array\n",
    "    private static double[] extractSingleVariable(double[][] xData, int variableIndex) {\n",
    "        double[] variableData = new double[xData.length];\n",
    "        for (int i = 0; i < xData.length; i++) {\n",
    "            variableData[i] = xData[i][variableIndex];\n",
    "        }\n",
    "        return variableData;\n",
    "    }\n",
    "}\n",
    "\n",
    "GradeDataGenerator.main(null);"
   ]
  },
  {
   "cell_type": "markdown",
   "metadata": {},
   "source": [
    "![Grade vs Commits](step4_Chart_Commits.png)\n",
    "![Grade vs PullRequests](step4_Chart_PullRequests.png)\n",
    "![Grade vs Issues](step4_Chart_Issues.png)\n",
    "![Grade vs ReposContributed](step4_Chart_ReposContributed.png)"
   ]
  },
  {
   "cell_type": "markdown",
   "metadata": {},
   "source": [
    "## Step 6: Minor Fixes and Putting It All Together\n",
    "\n",
    "For the CalculateGrade function, I might first employ a linear function and then an logarithmic function in the hope of preventing grades from rising too quickly at first. I then combined all these steps into the MockDataGenerator class, providing a comprehensive set of data that reflected the various factors influencing student grades."
   ]
  },
  {
   "cell_type": "code",
   "execution_count": 20,
   "metadata": {
    "vscode": {
     "languageId": "java"
    }
   },
   "outputs": [
    {
     "name": "stdout",
     "output_type": "stream",
     "text": [
      "Chart has been saved as step5_chart_commits.png\n",
      "Chart has been saved as step5_chart_pullrequests.png\n",
      "Chart has been saved as step5_chart_issues.png\n",
      "Chart has been saved as step5_chart_reposcontributed.png\n"
     ]
    }
   ],
   "source": [
    "public class MockDataGenerator {\n",
    "\n",
    "    private static final Random random = new Random();\n",
    "\n",
    "    public static void main(String[] args) {\n",
    "        double[][] xData = generateXData(250);\n",
    "        double[] yData = generateYData(xData);\n",
    "\n",
    "        // Generate and save charts for each variable\n",
    "        for (int i = 0; i < xData[0].length; i++) {\n",
    "            DataVisualization.generateAndSaveChart(\n",
    "                extractSingleVariable(xData, i),\n",
    "                yData,\n",
    "                \"Step4 Chart \" + getVariableName(i),\n",
    "                getVariableName(i),\n",
    "                \"Grades\",\n",
    "                \"step5_chart_\" + getVariableName(i).toLowerCase() + \".png\"\n",
    "            );\n",
    "        }\n",
    "    }\n",
    "\n",
    "    public static double[][] generateXData(int numStudents) {\n",
    "        double[][] xData = new double[numStudents][4];\n",
    "\n",
    "        for (int i = 0; i < numStudents; i++) {\n",
    "            int commits = 30 + (int) (Math.pow(random.nextDouble(), 2) * 170); // Skewed towards 30\n",
    "            int pullRequests = 5 + (int) (commits * 0.25 * random.nextDouble()); // Based on commits\n",
    "            int issues = 10 + (int) (commits * 0.5 * random.nextDouble()); // Based on commits\n",
    "            int reposContributed = 2 + (int) (commits * 0.1 * random.nextDouble()); // Based on commits\n",
    "\n",
    "            xData[i][0] = commits;\n",
    "            xData[i][1] = pullRequests;\n",
    "            xData[i][2] = issues;\n",
    "            xData[i][3] = reposContributed;\n",
    "        }\n",
    "\n",
    "        return xData;\n",
    "    }\n",
    "\n",
    "    public static double[] generateYData(double[][] xData) {\n",
    "        double[] yData = new double[xData.length];\n",
    "\n",
    "        for (int i = 0; i < xData.length; i++) {\n",
    "            yData[i] = calculateGrade((int)xData[i][0], (int)xData[i][1], (int)xData[i][2], (int)xData[i][3]);\n",
    "        }\n",
    "\n",
    "        return yData;\n",
    "    }\n",
    "\n",
    "    private static double calculateGrade(int commits, int pullRequests, int issues, int reposContributed) {\n",
    "        double commitGrade = (commits <= 40) ? 60 + (commits - 30) * 0.75 : Math.min(100, 90 + (10 * (1 - 1 / Math.log(commits - 29))));\n",
    "        double pullRequestGrade = (pullRequests <= 10) ? 60 + (pullRequests - 5) * 2.25 : Math.min(100, 90 + (10 * (1 - 1 / Math.log(pullRequests - 4))));\n",
    "        double issueGrade = (issues <= 30) ? 60 + (issues - 10) * 0.96 : Math.min(100, 90 + (10 * (1 - 1 / Math.log(issues - 9))));\n",
    "        double repoGrade = (reposContributed <= 7) ? 60 + (reposContributed - 2) * 3.5 : Math.min(100, 90 + (10 * (1 - 1 / Math.log(reposContributed - 1))));\n",
    "\n",
    "        return 0.4 * commitGrade + 0.2 * pullRequestGrade + 0.2 * issueGrade + 0.2 * repoGrade;\n",
    "    }\n",
    "    \n",
    "    // Helper method to extract a single variable from the 2D array\n",
    "    private static double[] extractSingleVariable(double[][] xData, int variableIndex) {\n",
    "        double[] variableData = new double[xData.length];\n",
    "        for (int i = 0; i < xData.length; i++) {\n",
    "            variableData[i] = xData[i][variableIndex];\n",
    "        }\n",
    "        return variableData;\n",
    "    }\n",
    "\n",
    "    // Helper method to get the name of the variable by index\n",
    "    private static String getVariableName(int index) {\n",
    "        switch (index) {\n",
    "            case 0: return \"Commits\";\n",
    "            case 1: return \"PullRequests\";\n",
    "            case 2: return \"Issues\";\n",
    "            case 3: return \"ReposContributed\";\n",
    "            default: return \"Unknown\";\n",
    "        }\n",
    "    }\n",
    "}\n",
    "\n",
    "MockDataGenerator.main(null);"
   ]
  },
  {
   "cell_type": "markdown",
   "metadata": {},
   "source": [
    "![Grade vs Commits](step5_chart_commits.png)\n",
    "![Grade vs PullRequests](step5_chart_pullrequests.png)\n",
    "![Grade vs Issues](step5_chart_issues.png)\n",
    "![Grade vs ReposContributed](step5_chart_reposcontributed.png)"
   ]
  }
 ],
 "metadata": {
  "kernelspec": {
   "display_name": "Java",
   "language": "java",
   "name": "java"
  },
  "language_info": {
   "codemirror_mode": "java",
   "file_extension": ".jshell",
   "mimetype": "text/x-java-source",
   "name": "Java",
   "pygments_lexer": "java",
   "version": "17.0.8+7-Ubuntu-120.04.2"
  }
 },
 "nbformat": 4,
 "nbformat_minor": 2
}
