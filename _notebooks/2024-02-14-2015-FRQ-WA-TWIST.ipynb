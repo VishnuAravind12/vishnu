{
 "cells": [
  {
   "cell_type": "markdown",
   "metadata": {},
   "source": [
    "1. This question involves reasoning about one-dimensional and two-dimensional arrays of integers. You will write three static methods, all of which are in a single enclosing class, named DiverseArray (not shown). The first method returns the sum of the values of a one-dimensional array; the second method returns an array that represents the sums of the rows of a two-dimensional array; and the third method analyzes row sums."
   ]
  },
  {
   "cell_type": "markdown",
   "metadata": {},
   "source": [
    "(a) Write a static method arraySum that calculates and returns the sum of the entries in a specified\n",
    "one-dimensional array. The following example shows an array arr1 and the value returned by a call to\n",
    "arraySum."
   ]
  },
  {
   "cell_type": "code",
   "execution_count": 16,
   "metadata": {
    "vscode": {
     "languageId": "java"
    }
   },
   "outputs": [
    {
     "name": "stdout",
     "output_type": "stream",
     "text": [
      "16\n"
     ]
    }
   ],
   "source": [
    "public class DiverseArray {\n",
    "    \n",
    "    public static int arraySum (int[] arr) {\n",
    "        int sum = 0;\n",
    "        \n",
    "        for (int i = 0; i < arr.length; i++) {\n",
    "            sum += arr[i];\n",
    "        }\n",
    "        \n",
    "        return sum;\n",
    "    }\n",
    "\n",
    "    public static void main (String args[]) {\n",
    "        int[] testArray = {1, 3, 2, 7, 3};\n",
    "        int sum = arraySum(testArray);\n",
    "        System.out.println(sum);\n",
    "    }\n",
    "\n",
    "}\n",
    "\n",
    "DiverseArray.main(null);"
   ]
  },
  {
   "cell_type": "markdown",
   "metadata": {},
   "source": [
    "(b) Write a static method rowSums that calculates the sums of each of the rows in a given twodimensional array and returns these sums in a one-dimensional array. The method has one parameter, a twodimensional array arr2D of int values. The array is in row-major order: arr2D[r][c] is the entry at row r and column c. The method returns a one-dimensional array with one entry for each row of arr2D such that each entry is the sum of the corresponding row in arr2D. As a reminder, each row of a two-dimensional array is a one-dimensional array"
   ]
  },
  {
   "cell_type": "code",
   "execution_count": 18,
   "metadata": {
    "vscode": {
     "languageId": "java"
    }
   },
   "outputs": [
    {
     "name": "stdout",
     "output_type": "stream",
     "text": [
      "[16, 32, 28, 20]\n"
     ]
    }
   ],
   "source": [
    "import java.util.Arrays;\n",
    "\n",
    "public class DiverseArray {\n",
    "    \n",
    "    public static int arraySum (int[] arr) {\n",
    "        int sum = 0;\n",
    "        \n",
    "        for (int i = 0; i < arr.length; i++) {\n",
    "            sum += arr[i];\n",
    "        }\n",
    "        \n",
    "        return sum;\n",
    "    }\n",
    "\n",
    "    public static int[] rowSums (int[][] arr2D) {\n",
    "        int numRows = arr2D.length;\n",
    "        int[] summedRows = new int[numRows];\n",
    "\n",
    "        for (int i = 0; i < numRows; i++) {\n",
    "            int sumRow = arraySum (arr2D[i]);\n",
    "            summedRows[i] = sumRow;\n",
    "        }\n",
    "\n",
    "        return summedRows;\n",
    "    }\n",
    "\n",
    "    public static void main (String args[]) {\n",
    "        int[][] mat1 = {\n",
    "            {1, 3, 2, 7, 3},\n",
    "            {10, 10, 4, 6, 2},\n",
    "            {5, 3, 5, 9, 6},\n",
    "            {7, 6, 4, 2, 1}\n",
    "        };\n",
    "        \n",
    "        int[] result = rowSums(mat1);\n",
    "        System.out.println(Arrays.toString(result));\n",
    "    }\n",
    "}\n",
    "\n",
    "DiverseArray.main(null);"
   ]
  },
  {
   "cell_type": "markdown",
   "metadata": {},
   "source": [
    "(c) Write a static method isDiverse that determines whether or not a given two-dimensional array is diverse. The method has one parameter: a two-dimensional array arr2D of int values. The method should return true if all the row sums in the given array are unique; otherwise, it should return false. In the arrays shown above, the call isDiverse(mat1) returns true and the call isDiverse(mat2) returns false."
   ]
  },
  {
   "cell_type": "code",
   "execution_count": 21,
   "metadata": {
    "vscode": {
     "languageId": "java"
    }
   },
   "outputs": [
    {
     "name": "stdout",
     "output_type": "stream",
     "text": [
      "true\n",
      "false\n"
     ]
    }
   ],
   "source": [
    "public class DiverseArray {\n",
    "    \n",
    "    public static int arraySum (int[] arr) {\n",
    "        int sum = 0;\n",
    "        \n",
    "        for (int i = 0; i < arr.length; i++) {\n",
    "            sum += arr[i];\n",
    "        }\n",
    "        \n",
    "        return sum;\n",
    "    }\n",
    "\n",
    "    public static int[] rowSums (int[][] arr2D) {\n",
    "        int numRows = arr2D.length;\n",
    "        int[] summedRows = new int[numRows];\n",
    "\n",
    "        for (int i = 0; i < numRows; i++) {\n",
    "            int sumRow = arraySum (arr2D[i]);\n",
    "            summedRows[i] = sumRow;\n",
    "        }\n",
    "\n",
    "        return summedRows;\n",
    "    }\n",
    "\n",
    "    public static boolean isDiverse(int[][] arr2D) {\n",
    "        int[] summedRowArr = rowSums(arr2D);\n",
    "\n",
    "        for (int i = 0; i < summedRowArr.length; i++) {\n",
    "            int marker = summedRowArr[i];\n",
    "\n",
    "            for (int j = i+1; j < summedRowArr.length; j++) {\n",
    "                if (marker == summedRowArr[j]) {\n",
    "                    return false;\n",
    "                }\n",
    "            }\n",
    "        }\n",
    "        return true;\n",
    "    }\n",
    "\n",
    "    public static void main (String args[]) {\n",
    "        int[][] mat1 = {\n",
    "            {1, 3, 2, 7, 3},\n",
    "            {10, 10, 4, 6, 2},\n",
    "            {5, 3, 5, 9, 6},\n",
    "            {7, 6, 4, 2, 1}\n",
    "        };\n",
    "\n",
    "        int[][] mat2 = {\n",
    "            {1, 1, 5, 3, 4},\n",
    "            {12, 7, 6, 1, 9},\n",
    "            {8, 11, 10, 2, 5},\n",
    "            {3, 2, 3, 0, 6}\n",
    "        };\n",
    "\n",
    "        System.out.println(isDiverse(mat1));\n",
    "        System.out.println(isDiverse(mat2));\n",
    "    }\n",
    "}\n",
    "\n",
    "\n",
    "DiverseArray.main(null);"
   ]
  },
  {
   "cell_type": "markdown",
   "metadata": {},
   "source": [
    " Consider a guessing game in which a player tries to guess a hidden word. The hidden word contains only capitalletters and has a length known to the player. A guess contains only capital letters and has the same length as the hidden word.\n",
    "\n",
    "After a guess is made, the player is given a hint that is based on a comparison between the hidden word and the guess. Each position in the hint contains a character that corresponds to the letter in the same position in the guess. The following rules determine the characters that appear in the hint.\n",
    "\n",
    "The HiddenWord class will be used to represent the hidden word in the game. The hidden word is passed to the constructor. The class contains a method, getHint, that takes a guess and produces a hint.\n",
    "\n",
    "Write the complete HiddenWord class, including any necessary instance variables, its constructor, and the method, getHint, described above. You may assume that the length of the guess is the same as the length of the hidden word."
   ]
  },
  {
   "cell_type": "code",
   "execution_count": 1,
   "metadata": {
    "vscode": {
     "languageId": "java"
    }
   },
   "outputs": [
    {
     "name": "stdout",
     "output_type": "stream",
     "text": [
      "+A+++\n",
      "H****\n",
      "H*++*\n",
      "HAR*S\n",
      "HARPS\n"
     ]
    }
   ],
   "source": [
    "public class HiddenWord {\n",
    "    private String hiddenWord; //Hidden Word Field\n",
    "    \n",
    "    public HiddenWord(String hiddenWord) { //contrsuctor for the hidden word\n",
    "        this.hiddenWord = hiddenWord;\n",
    "    }\n",
    "\n",
    "    public String getHint (String guess) {\n",
    "        StringBuilder hint = new StringBuilder(); //Builder for making the hint\n",
    "        \n",
    "        for (int i = 0; i < guess.length(); i++) {\n",
    "            char guessChar = guess.charAt(i); // Character from the guess\n",
    "            char hiddenChar = hiddenWord.charAt(i); // Corresponding character from the hidden word\n",
    "\n",
    "            if (guessChar == hiddenChar) {\n",
    "                hint.append(guessChar); // If characters match, add the character to the hint\n",
    "            } else if (hiddenWord.contains(String.valueOf(guessChar))) {\n",
    "                hint.append(\"+\"); // If the guess character is in the hidden word but in a different position\n",
    "            } else {\n",
    "                hint.append(\"*\"); // If the guess character is not in the hidden word\n",
    "            }\n",
    "        }\n",
    "\n",
    "        return hint.toString(); //Convert StringBuilder to String and return hint\n",
    "    }\n",
    "\n",
    "    public static void main (String args[]) {\n",
    "        HiddenWord puzzle = new HiddenWord(\"HARPS\");\n",
    "        System.out.println(puzzle.getHint(\"AAAAA\"));\n",
    "        System.out.println(puzzle.getHint(\"HELLO\"));\n",
    "        System.out.println(puzzle.getHint(\"HEART\"));\n",
    "        System.out.println(puzzle.getHint(\"HARMS\"));\n",
    "        System.out.println(puzzle.getHint(\"HARPS\"));\n",
    "    }\n",
    "}\n",
    "\n",
    "HiddenWord.main(null);"
   ]
  },
  {
   "cell_type": "markdown",
   "metadata": {},
   "source": [
    "A two-dimensional array of integers in which most elements are zero is called a sparse array. Because most elements have a value of zero, memory can be saved by storing only the non-zero values along with their row and column indexes. The following complete `SparseArrayEntry` class is used to represent non-zero elements in a sparse array. A `SparseArrayEntry` object cannot be modified after it has been constructed."
   ]
  },
  {
   "cell_type": "code",
   "execution_count": 9,
   "metadata": {
    "vscode": {
     "languageId": "java"
    }
   },
   "outputs": [],
   "source": [
    "public class SparseArrayEntry {\n",
    "    /** The row index and column index for this entry in the sparse array */\n",
    "    private int row;\n",
    "    private int col;\n",
    "    \n",
    "    /** The value of this entry in the sparse array */\n",
    "    private int value;\n",
    "    \n",
    "    /** Constructs a SparseArrayEntry object that represents a sparse array element\n",
    "    * with row index r and column index c, containing value v.\n",
    "    */\n",
    "    public SparseArrayEntry(int r, int c, int v) {\n",
    "        row = r;\n",
    "        col = c;\n",
    "        value = v;\n",
    "    }\n",
    "    \n",
    "    /** Returns the row index of this sparse array element. */\n",
    "    public int getRow() { \n",
    "        return row; \n",
    "    }\n",
    "\n",
    "    public void setRow(int newRow) {\n",
    "        this.row = newRow;\n",
    "    }\n",
    "    \n",
    "    /** Returns the column index of this sparse array element. */\n",
    "    public int getCol() { \n",
    "        return col; \n",
    "    }\n",
    "\n",
    "    public void setCol(int newCol) {\n",
    "        this.col = newCol;\n",
    "    }\n",
    "    \n",
    "    /** Returns the value of this sparse array element. */\n",
    "    public int getValue() { \n",
    "        return value; \n",
    "    }\n",
    "\n",
    "    public void setValue(int newValue) {\n",
    "        this.value = newValue;\n",
    "    }\n",
    "\n",
    "    //Allows for the printing out of a SparseArrayEntry to the console in a beautiful fashion\n",
    "    @Override\n",
    "    public String toString() {\n",
    "        return \"SparseArrayEntry{\" +\n",
    "            \"row=\" + row +\n",
    "            \", col=\" + col +\n",
    "            \", value=\" + value +\n",
    "            '}';\n",
    "    }\n",
    "}"
   ]
  },
  {
   "cell_type": "code",
   "execution_count": 11,
   "metadata": {
    "vscode": {
     "languageId": "java"
    }
   },
   "outputs": [
    {
     "name": "stdout",
     "output_type": "stream",
     "text": [
      "Exepected Outputs for part (a)\n",
      "-9\n",
      "0\n",
      "\n",
      "Entries Before removing column 1:\n",
      "SparseArrayEntry{row=1, col=4, value=4}\n",
      "SparseArrayEntry{row=2, col=0, value=1}\n",
      "SparseArrayEntry{row=3, col=1, value=-9}\n",
      "SparseArrayEntry{row=1, col=1, value=5}\n",
      "\n",
      "Expected Outputs for part (b)\n",
      "numRows: 6\n",
      "numCols: 4\n",
      "\n",
      "Entries After removing column 1:\n",
      "SparseArrayEntry{row=1, col=3, value=4}\n",
      "SparseArrayEntry{row=2, col=0, value=1}\n"
     ]
    }
   ],
   "source": [
    "public class SparseArray {\n",
    "    /** The number of rows and columns in the sparse array. */\n",
    "    private int numRows;\n",
    "    private int numCols;\n",
    "    /** The list of entries representing the non-zero elements of the sparse array. Entries are stored in the\n",
    "    * list in no particular order. Each non-zero element is represented by exactly one entry in the list.\n",
    "    */\n",
    "    private List<SparseArrayEntry> entries;\n",
    "    \n",
    "    /** Constructs an empty SparseArray. */\n",
    "    public SparseArray() { \n",
    "        entries = new ArrayList<SparseArrayEntry>(); \n",
    "    }\n",
    "\n",
    "    /** Adds an Entry to the Sparse Array */\n",
    "    public void addEntry(SparseArrayEntry entry) {\n",
    "        entries.add(entry);\n",
    "    }\n",
    "\n",
    "    /** A nice way to print out the entries so we can ensure the remove column method works */\n",
    "    public void printEntries() {\n",
    "        for (SparseArrayEntry entry : entries) {\n",
    "            System.out.println(entry);\n",
    "        }\n",
    "    }    \n",
    "\n",
    "\n",
    "    /** Returns the number of rows in the sparse array. */\n",
    "    public int getNumRows() { \n",
    "        return numRows; \n",
    "    }\n",
    "\n",
    "    public void setNumRows(int newNumRows) {\n",
    "        this.numRows = newNumRows;\n",
    "    }\n",
    "\n",
    "    /** Returns the number of columns in the sparse array. */\n",
    "    public int getNumCols() { \n",
    "        return numCols; \n",
    "    }\n",
    "\n",
    "    public void setNumCols(int newNumCols) {\n",
    "        this.numCols = newNumCols;\n",
    "    }\n",
    "    \n",
    "    /** Returns the value of the element at row index row and column index col in the sparse array.\n",
    "    * Precondition: 0  row < getNumRows()\n",
    "    * 0  col < getNumCols()\n",
    "    */\n",
    "    public int getValueAt(int row, int col) { /* to be implemented in part (a) */ \n",
    "        for (int i = 0; i < entries.size(); i++) {\n",
    "            SparseArrayEntry entry = entries.get(i);\n",
    "            int rowNumber = entry.getRow();\n",
    "            int colNumber = entry.getCol();\n",
    "\n",
    "            if (rowNumber == row && colNumber == col) {\n",
    "                return entry.getValue();\n",
    "            }\n",
    "        }\n",
    "        return 0;\n",
    "    }\n",
    "    \n",
    "    /** Removes the column col from the sparse array.\n",
    "    * Precondition: 0  col < getNumCols()\n",
    "    */\n",
    "    public void removeColumn(int col) {\n",
    "        Iterator<SparseArrayEntry> iterator = entries.iterator();\n",
    "        while (iterator.hasNext()) {\n",
    "            SparseArrayEntry entry = iterator.next();\n",
    "            int colNumber = entry.getCol();\n",
    "    \n",
    "            if (colNumber == col) {\n",
    "                iterator.remove();\n",
    "            } else if (colNumber > col) {\n",
    "                entry.setCol(colNumber - 1);\n",
    "            }\n",
    "        }\n",
    "        this.setNumCols(this.getNumCols() - 1);\n",
    "    }    \n",
    "    // There may be instance variables, constructors, and methods that are not shown.\n",
    "\n",
    "    public static void main(String args[]) {\n",
    "        SparseArray sparseArray = new SparseArray();\n",
    "\n",
    "        // Set the number of rows and columns\n",
    "        sparseArray.setNumRows(6);\n",
    "        sparseArray.setNumCols(5);\n",
    "    \n",
    "        // Add entries to the sparse array\n",
    "        sparseArray.addEntry(new SparseArrayEntry(1, 4, 4));\n",
    "        sparseArray.addEntry(new SparseArrayEntry(2, 0, 1));\n",
    "        sparseArray.addEntry(new SparseArrayEntry(3, 1, -9));\n",
    "        sparseArray.addEntry(new SparseArrayEntry(1, 1, 5));\n",
    "\n",
    "        System.out.println(\"Exepected Outputs for part (a)\");\n",
    "        System.out.println(sparseArray.getValueAt(3, 1));\n",
    "        System.out.println(sparseArray.getValueAt(3, 3));\n",
    "\n",
    "        System.out.println(\"\\nEntries Before removing column 1:\");\n",
    "        sparseArray.printEntries();\n",
    "    \n",
    "        sparseArray.removeColumn(1);\n",
    "    \n",
    "        System.out.println(\"\\nExpected Outputs for part (b)\");\n",
    "\n",
    "        System.out.println(\"numRows: \" + sparseArray.getNumRows());\n",
    "        System.out.println(\"numCols: \" + sparseArray.getNumCols());\n",
    "\n",
    "        System.out.println(\"\\nEntries After removing column 1:\");\n",
    "        sparseArray.printEntries();\n",
    "    }\n",
    "}\n",
    "\n",
    "SparseArray.main(null);"
   ]
  }
 ],
 "metadata": {
  "kernelspec": {
   "display_name": "Java",
   "language": "java",
   "name": "java"
  },
  "language_info": {
   "codemirror_mode": "java",
   "file_extension": ".jshell",
   "mimetype": "text/x-java-source",
   "name": "Java",
   "pygments_lexer": "java",
   "version": "17.0.8+7-Ubuntu-120.04.2"
  }
 },
 "nbformat": 4,
 "nbformat_minor": 2
}
