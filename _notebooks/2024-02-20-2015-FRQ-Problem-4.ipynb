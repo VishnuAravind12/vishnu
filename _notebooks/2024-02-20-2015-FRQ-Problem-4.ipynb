{
 "cells": [
  {
   "cell_type": "markdown",
   "metadata": {},
   "source": [
    "# Methods and Control Structures Question\n",
    "\n",
    "4.A number group represents a group of integers defined in some way. It could be empty, or it could contain one or more integers.\n",
    "\n",
    "Write an interface named NumberGroup that represents a group of integers. The interface should have a single contains method that determines if a given integer is in the group. For example, if group1 is of type NumberGroup, and it contains only the two numbers -5 and 3, then group1.contains(-5) would return true, and group1.contains(2) would return false.\n",
    "\n",
    "(a) Write the complete NumberGroup interface. It must have exactly one method. "
   ]
  },
  {
   "cell_type": "code",
   "execution_count": 1,
   "metadata": {
    "vscode": {
     "languageId": "java"
    }
   },
   "outputs": [],
   "source": [
    "public interface NumberGroup {\n",
    "    boolean contains(int value);\n",
    "}"
   ]
  },
  {
   "cell_type": "markdown",
   "metadata": {},
   "source": [
    "(b) A range represents a number group that contains all (and only) the integers between a minimum value and a maximum value, inclusive.\n",
    "\n",
    "Write the Range class, which is a NumberGroup. The Range class represents the group of int values that range from a given minimum value up through a given maximum value, inclusive. For example, the declaration\n",
    " \n",
    "`NumberGroup range1 = new Range(-3, 2); represents the group of integer values -3, -2, -1, 0, 1, 2.`\n",
    "\n",
    "Write the complete Range class. Include all necessary instance variables and methods as well as a constructor that takes two int parameters. The first parameter represents the minimum value, and the second parameter represents the maximum value of the range. You may assume that the minimum is less than or equal to the maximum."
   ]
  },
  {
   "cell_type": "code",
   "execution_count": 3,
   "metadata": {
    "vscode": {
     "languageId": "java"
    }
   },
   "outputs": [
    {
     "name": "stdout",
     "output_type": "stream",
     "text": [
      "Does range1 contain -4: false\n",
      "Does range1 contain 0: true\n"
     ]
    }
   ],
   "source": [
    "public class Range implements NumberGroup {\n",
    "    private int min;\n",
    "    private int max;\n",
    "\n",
    "    public Range(int min, int max) {\n",
    "        this.min = min;\n",
    "        this.max = max;\n",
    "    }\n",
    "\n",
    "    @Override\n",
    "    public boolean contains(int number) {\n",
    "        if (number >= min && number <= max) {\n",
    "            return true;\n",
    "        }\n",
    "\n",
    "        else {\n",
    "            return false;\n",
    "        }\n",
    "    }\n",
    "\n",
    "    public static void main(String args[]) {\n",
    "        Range range1 = new Range(-3, 2);\n",
    "        System.out.println(\"Does range1 contain -4: \" + range1.contains(-4));\n",
    "        System.out.println(\"Does range1 contain 0: \" + range1.contains(0));\n",
    "    }\n",
    "}\n",
    "\n",
    "Range.main(null);"
   ]
  },
  {
   "cell_type": "markdown",
   "metadata": {},
   "source": [
    "(c) The MultipleGroups class (not shown) represents a collection of NumberGroup objects and is a NumberGroup. The MultipleGroups class stores the number groups in the instance variable groupList (shown below), which is initialized in the constructor.\n",
    "\n",
    "`private List<NumberGroup> groupList;`\n",
    "\n",
    "Write the MultipleGroups method contains. The method takes an integer and returns true if and only if the integer is contained in one or more of the number groups in groupList.\n",
    "\n",
    "For example, suppose multiple1 has been declared as an instance of MultipleGroups and consists of the three ranges created by the calls new Range(5, 8), new Range(10, 12), and new Range(1, 6). The following table shows the results of several calls to contains. "
   ]
  },
  {
   "cell_type": "code",
   "execution_count": 4,
   "metadata": {
    "vscode": {
     "languageId": "java"
    }
   },
   "outputs": [
    {
     "name": "stdout",
     "output_type": "stream",
     "text": [
      "Do any of the ranges in multiple1 contain 7: true\n",
      "Do any of the ranges in multiple1 contain 9: false\n"
     ]
    }
   ],
   "source": [
    "public class MultipleGroups implements NumberGroup {\n",
    "    private List<NumberGroup> groupList;\n",
    "\n",
    "    public MultipleGroups () {\n",
    "        groupList = new ArrayList<NumberGroup>();\n",
    "    }\n",
    "\n",
    "    public void addGroup (NumberGroup group) {\n",
    "        groupList.add(group);\n",
    "    }\n",
    "\n",
    "    @Override\n",
    "    public boolean contains (int number) {\n",
    "        for (NumberGroup group : groupList) {\n",
    "            if (group.contains(number)) {\n",
    "                return true;\n",
    "            }\n",
    "        }\n",
    "        return false;   \n",
    "    }\n",
    "\n",
    "    public static void main (String args[]) {\n",
    "        MultipleGroups multiple1 = new MultipleGroups();\n",
    "        multiple1.addGroup(new Range(5, 8));\n",
    "        multiple1.addGroup(new Range(10, 12));\n",
    "        multiple1.addGroup(new Range(1, 6));\n",
    "        \n",
    "        System.out.println(\"Do any of the ranges in multiple1 contain 7: \" + multiple1.contains(7));\n",
    "        System.out.println(\"Do any of the ranges in multiple1 contain 9: \" + multiple1.contains(9));       \n",
    "    }\n",
    "}\n",
    "\n",
    "MultipleGroups.main(null);"
   ]
  },
  {
   "cell_type": "markdown",
   "metadata": {},
   "source": [
    "In this problem my task was to implement a system that can represent and manipulate groups of numbers. This involved creating a flexible structure that could handle various definitions of what constitutes a group of numbers.\n",
    "\n",
    "In Part A, I started by defining the `NumberGroup` interface with a single method `contains`, which checks if a given integer is in the group. It set the groundwork for how groups of numbers would be interpreted and interacted with in the rest of the solution.\n",
    "\n",
    "Moving to Part B, I implemented the Range class. The Range class defines a group of numbers as all integers within a specified range. In the `contains` method of Range, I used simple conditional statements to determine if a number falls within the range. This part of the problem allowed me to apply basic control structures and demonstrate how they can be used to define specific behaviors in a class.\n",
    "\n",
    "Part C introduced the MultipleGroups class, representing a collection of `NumberGroup` objects. The challenging part was with the `contains` method, which required iterating over a list of `NumberGroup` objects. For each group in the list, I had to check if the given number was contained within it."
   ]
  },
  {
   "cell_type": "code",
   "execution_count": null,
   "metadata": {
    "vscode": {
     "languageId": "java"
    }
   },
   "outputs": [],
   "source": [
    "double sum = 0;\n",
    "int totalPlayers = 0;\n",
    "\n",
    "List<Player> allPlayers = new ArrayList<>(teamsData.getTeamA());\n",
    "allPlayers.addAll(teamsData.getTeamB());\n",
    "\n",
    "for (Player player : allPlayers) {\n",
    "    sum += calculateFantasyPoints(player);\n",
    "    totalPlayers++;\n",
    "}\n",
    "\n",
    "double mean = sum / totalPlayers;\n",
    "double squaredDifferenceSum = 0;\n",
    "\n",
    "for (Player player : allPlayers) {\n",
    "    double difference = calculateFantasyPoints(player) - mean;\n",
    "    squaredDifferenceSum += difference * difference;\n",
    "}\n",
    "\n",
    "double variance = squaredDifferenceSum / totalPlayers;\n",
    "return Math.sqrt(variance);"
   ]
  },
  {
   "cell_type": "markdown",
   "metadata": {},
   "source": [
    "The above excerpt is from the `MonteCarloSimulator` class in our NBA Predictor project, which is designed for simulating and predicting fantasy points in NBA games. The `calculateStandardDeviation` is crucial for accurately capturing the variability in player performances, thereby enabling us to generate more realistic and reliable fantasy point projections.\n",
    "\n",
    "In developing this method, we employed enhanced for loops to iterate through lists of players, aggregating their fantasy points. This step was essential to calculate the mean fantasy points, laying the groundwork for further calculations. We then used another loop to compute the sum of squared differences from the mean, a critical step in determining the variance of the players' performances. Finally, the standard deviation was derived by taking the square root of this variance."
   ]
  }
 ],
 "metadata": {
  "kernelspec": {
   "display_name": "Java",
   "language": "java",
   "name": "java"
  },
  "language_info": {
   "codemirror_mode": "java",
   "file_extension": ".jshell",
   "mimetype": "text/x-java-source",
   "name": "Java",
   "pygments_lexer": "java",
   "version": "17.0.8+7-Ubuntu-120.04.2"
  }
 },
 "nbformat": 4,
 "nbformat_minor": 2
}
