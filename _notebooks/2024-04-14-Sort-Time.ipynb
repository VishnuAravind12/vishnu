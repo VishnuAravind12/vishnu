{
 "cells": [
  {
   "cell_type": "markdown",
   "metadata": {},
   "source": [
    "---\n",
    "title: Sort Time\n",
    "description: All the Workshop 2 Hacks in One Place\n",
    "toc: true\n",
    "layout: post\n",
    "---"
   ]
  },
  {
   "cell_type": "markdown",
   "metadata": {},
   "source": [
    "# GOOD CODE"
   ]
  },
  {
   "cell_type": "code",
   "execution_count": 2,
   "metadata": {
    "vscode": {
     "languageId": "java"
    }
   },
   "outputs": [],
   "source": [
    "public class Gangster implements Comparable<Gangster> {\n",
    "    private String name;\n",
    "    private String nickname;\n",
    "    private int influenceLevel; // A measure of the gangster's influence or power\n",
    "\n",
    "    public Gangster(String name, String nickname, int influenceLevel) {\n",
    "        this.name = name;\n",
    "        this.nickname = nickname;\n",
    "        this.influenceLevel = influenceLevel;\n",
    "    }\n",
    "\n",
    "    public String getName() {\n",
    "        return name;\n",
    "    }\n",
    "\n",
    "    public String getNickname() {\n",
    "        return nickname;\n",
    "    }\n",
    "\n",
    "    public int getInfluenceLevel() {\n",
    "        return influenceLevel;\n",
    "    }\n",
    "\n",
    "    @Override\n",
    "    public String toString() {\n",
    "        return String.format(\"%s a.k.a %s\", name, nickname);\n",
    "    }\n",
    "\n",
    "    @Override\n",
    "    public int compareTo(Gangster other) {\n",
    "        return Integer.compare(this.influenceLevel, other.influenceLevel);\n",
    "    }\n",
    "}"
   ]
  },
  {
   "cell_type": "code",
   "execution_count": 3,
   "metadata": {
    "vscode": {
     "languageId": "java"
    }
   },
   "outputs": [],
   "source": [
    "import java.util.ArrayList;\n",
    "import java.util.Random;\n",
    "\n",
    "public class Mafia {\n",
    "    private ArrayList<Gangster> mafia;\n",
    "\n",
    "    public Mafia(int count) {\n",
    "        this.mafia = new ArrayList<>();\n",
    "        populateMafia(count);\n",
    "    }\n",
    "\n",
    "    private void populateMafia(int count) {\n",
    "        String[] names = {\"Al Capone\", \"Lucky Luciano\", \"Vito Genovese\", \"Frank Costello\", \"Carlo Gambino\", \"Bugs Moran\"};\n",
    "        String[] nicknames = {\"Scarface\", \"Lucky\", \"Don Vito\", \"Prime Minister\", \"Don Carlo\", \"Buginson\"};\n",
    "        Random random = new Random();\n",
    "\n",
    "        for (int i = 0; i < count; i++) {\n",
    "            int idx = random.nextInt(names.length);\n",
    "            int influenceLevel = random.nextInt(10) + 1;\n",
    "            mafia.add(new Gangster(names[idx], nicknames[idx], influenceLevel));\n",
    "        }\n",
    "    }\n",
    "\n",
    "    public void bubbleSort() {\n",
    "        int n = mafia.size();\n",
    "        for (int i = 0; i < n - 1; i++) {\n",
    "            for (int j = 0; j < n - i - 1; j++) {\n",
    "                if (mafia.get(j).compareTo(mafia.get(j + 1)) > 0) {\n",
    "                    Gangster temp = mafia.get(j);\n",
    "                    mafia.set(j, mafia.get(j + 1));\n",
    "                    mafia.set(j + 1, temp);\n",
    "                }\n",
    "            }\n",
    "        }\n",
    "    }\n",
    "\n",
    "    public void selectionSort() {\n",
    "        int n = mafia.size();\n",
    "        for (int i = 0; i < n - 1; i++) {\n",
    "            int min_idx = i;\n",
    "            for (int j = i + 1; j < n; j++)\n",
    "                if (mafia.get(j).compareTo(mafia.get(min_idx)) < 0)\n",
    "                    min_idx = j;\n",
    "            Gangster temp = mafia.get(min_idx);\n",
    "            mafia.set(min_idx, mafia.get(i));\n",
    "            mafia.set(i, temp);\n",
    "        }\n",
    "    }\n",
    "\n",
    "    public void insertionSort() {\n",
    "        int n = mafia.size();\n",
    "        for (int i = 1; i < n; ++i) {\n",
    "            Gangster key = mafia.get(i);\n",
    "            int j = i - 1;\n",
    "            while (j >= 0 && mafia.get(j).compareTo(key) > 0) {\n",
    "                mafia.set(j + 1, mafia.get(j));\n",
    "                j = j - 1;\n",
    "            }\n",
    "            mafia.set(j + 1, key);\n",
    "        }\n",
    "    }\n",
    "\n",
    "    public void mergeSort() {\n",
    "        mergeSortHelper(0, mafia.size() - 1);\n",
    "    }\n",
    "\n",
    "    private void mergeSortHelper(int left, int right) {\n",
    "        if (left < right) {\n",
    "            int middle = (left + right) / 2;\n",
    "            mergeSortHelper(left, middle);\n",
    "            mergeSortHelper(middle + 1, right);\n",
    "            merge(left, middle, right);\n",
    "        }\n",
    "    }\n",
    "\n",
    "    private void merge(int left, int middle, int right) {\n",
    "        int n1 = middle - left + 1;\n",
    "        int n2 = right - middle;\n",
    "        ArrayList<Gangster> L = new ArrayList<>(n1);\n",
    "        ArrayList<Gangster> R = new ArrayList<>(n2);\n",
    "        for (int i = 0; i < n1; ++i)\n",
    "            L.add(i, mafia.get(left + i));\n",
    "        for (int j = 0; j < n2; ++j)\n",
    "            R.add(j, mafia.get(middle + 1 + j));\n",
    "\n",
    "        int i = 0, j = 0, k = left;\n",
    "        while (i < n1 && j < n2) {\n",
    "            if (L.get(i).compareTo(R.get(j)) <= 0) {\n",
    "                mafia.set(k, L.get(i));\n",
    "                i++;\n",
    "            } else {\n",
    "                mafia.set(k, R.get(j));\n",
    "                j++;\n",
    "            }\n",
    "            k++;\n",
    "        }\n",
    "\n",
    "        while (i < n1) {\n",
    "            mafia.set(k, L.get(i));\n",
    "            i++;\n",
    "            k++;\n",
    "        }\n",
    "        while (j < n2) {\n",
    "            mafia.set(k, R.get(j));\n",
    "            j++;\n",
    "            k++;\n",
    "        }\n",
    "    }\n",
    "\n",
    "    public void quickSort() {\n",
    "        quickSortHelper(0, mafia.size() - 1);\n",
    "    }\n",
    "\n",
    "    private void quickSortHelper(int low, int high) {\n",
    "        if (low < high) {\n",
    "            int pi = partition(low, high);\n",
    "            quickSortHelper(low, pi - 1);\n",
    "            quickSortHelper(pi + 1, high);\n",
    "        }\n",
    "    }\n",
    "\n",
    "    private int partition(int low, int high) {\n",
    "        Gangster pivot = mafia.get(high);\n",
    "        int i = (low - 1);\n",
    "        for (int j = low; j < high; j++) {\n",
    "            if (mafia.get(j).compareTo(pivot) < 0) {\n",
    "                i++;\n",
    "                Gangster temp = mafia.get(i);\n",
    "                mafia.set(i, mafia.get(j));\n",
    "                mafia.set(j, temp);\n",
    "            }\n",
    "        }\n",
    "        Gangster temp = mafia.get(i + 1);\n",
    "        mafia.set(i + 1, mafia.get(high));\n",
    "        mafia.set(high, temp);\n",
    "        return i + 1;\n",
    "    }\n",
    "\n",
    "    @Override\n",
    "    public String toString() {\n",
    "        StringBuilder sb = new StringBuilder();\n",
    "        for (Gangster g : mafia) {\n",
    "            sb.append(g.toString()).append(\"\\n\");\n",
    "        }\n",
    "        return sb.toString();\n",
    "    }\n",
    "}\n"
   ]
  },
  {
   "cell_type": "code",
   "execution_count": 5,
   "metadata": {
    "vscode": {
     "languageId": "java"
    }
   },
   "outputs": [
    {
     "name": "stdout",
     "output_type": "stream",
     "text": [
      "Bubble Sort took: 34 ms\n",
      "Selection Sort took: 18 ms\n",
      "Insertion Sort took: 22 ms\n",
      "Merge Sort took: 4 ms\n",
      "Quick Sort took: 7 ms\n"
     ]
    }
   ],
   "source": [
    "public class Main {\n",
    "    public static void main(String[] args) {\n",
    "        // Create a mafia of size 2500\n",
    "        Mafia mafia = new Mafia(2500);\n",
    "\n",
    "        // Timing Bubble Sort\n",
    "        long startTime = System.currentTimeMillis();\n",
    "        mafia.bubbleSort();\n",
    "        long endTime = System.currentTimeMillis();\n",
    "        System.out.println(\"Bubble Sort took: \" + (endTime - startTime) + \" ms\");\n",
    "\n",
    "        // Recreate the mafia to reset the order of gangsters\n",
    "        mafia = new Mafia(2500);\n",
    "\n",
    "        // Timing Selection Sort\n",
    "        startTime = System.currentTimeMillis();\n",
    "        mafia.selectionSort();\n",
    "        endTime = System.currentTimeMillis();\n",
    "        System.out.println(\"Selection Sort took: \" + (endTime - startTime) + \" ms\");\n",
    "\n",
    "        // Recreate the mafia\n",
    "        mafia = new Mafia(2500);\n",
    "\n",
    "        // Timing Insertion Sort\n",
    "        startTime = System.currentTimeMillis();\n",
    "        mafia.insertionSort();\n",
    "        endTime = System.currentTimeMillis();\n",
    "        System.out.println(\"Insertion Sort took: \" + (endTime - startTime) + \" ms\");\n",
    "\n",
    "        // Recreate the mafia\n",
    "        mafia = new Mafia(2500);\n",
    "\n",
    "        // Timing Merge Sort\n",
    "        startTime = System.currentTimeMillis();\n",
    "        mafia.mergeSort();\n",
    "        endTime = System.currentTimeMillis();\n",
    "        System.out.println(\"Merge Sort took: \" + (endTime - startTime) + \" ms\");\n",
    "\n",
    "        // Recreate the mafia\n",
    "        mafia = new Mafia(2500);\n",
    "\n",
    "        // Timing Quick Sort\n",
    "        startTime = System.currentTimeMillis();\n",
    "        mafia.quickSort();\n",
    "        endTime = System.currentTimeMillis();\n",
    "        System.out.println(\"Quick Sort took: \" + (endTime - startTime) + \" ms\");\n",
    "    }\n",
    "}\n",
    "\n",
    "Main.main(null);"
   ]
  },
  {
   "cell_type": "markdown",
   "metadata": {},
   "source": [
    "# SHIT CODE HORRENDOUS CODE"
   ]
  },
  {
   "cell_type": "markdown",
   "metadata": {},
   "source": [
    "# Ganger and Mafia Object Setup"
   ]
  },
  {
   "cell_type": "code",
   "execution_count": 1,
   "metadata": {
    "vscode": {
     "languageId": "java"
    }
   },
   "outputs": [],
   "source": [
    "public class Gangster implements Comparable<Gangster> {\n",
    "    private String name;\n",
    "    private String nickname;\n",
    "    private int influenceLevel; // A measure of the gangster's influence or power\n",
    "\n",
    "    public Gangster(String name, String nickname, int influenceLevel) {\n",
    "        this.name = name;\n",
    "        this.nickname = nickname;\n",
    "        this.influenceLevel = influenceLevel;\n",
    "    }\n",
    "\n",
    "    public String getName() {\n",
    "        return name;\n",
    "    }\n",
    "\n",
    "    public String getNickname() {\n",
    "        return nickname;\n",
    "    }\n",
    "\n",
    "    public int getInfluenceLevel() {\n",
    "        return influenceLevel;\n",
    "    }\n",
    "\n",
    "    @Override\n",
    "    public String toString() {\n",
    "        return String.format(\"%s a.k.a %s\", name, nickname);\n",
    "    }\n",
    "\n",
    "    @Override\n",
    "    public int compareTo(Gangster other) {\n",
    "        return Integer.compare(this.influenceLevel, other.influenceLevel);\n",
    "    }\n",
    "}"
   ]
  },
  {
   "cell_type": "code",
   "execution_count": 4,
   "metadata": {
    "vscode": {
     "languageId": "java"
    }
   },
   "outputs": [],
   "source": [
    "import java.util.ArrayList;\n",
    "\n",
    "public class Mafia {\n",
    "    public static ArrayList<Gangster> generate() {\n",
    "        ArrayList<Gangster> mafia = new ArrayList<>();\n",
    "        mafia.add(new Gangster(\"Al Capone\", \"Scarface\", 10));\n",
    "        mafia.add(new Gangster(\"Lucky Luciano\", \"Lucky\", 9));\n",
    "        mafia.add(new Gangster(\"Vito Genovese\", \"Don Vito\", 8));\n",
    "        mafia.add(new Gangster(\"Frank Costello\", \"Prime Minister\", 7));\n",
    "        mafia.add(new Gangster(\"Carlo Gambino\", \"Don Carlo\", 6));\n",
    "        mafia.add(new Gangster(\"Bugs Moran\", \"Buginson\", 9));\n",
    "        return mafia;\n",
    "    }\n",
    "}\n"
   ]
  },
  {
   "cell_type": "markdown",
   "metadata": {},
   "source": [
    "# Bubble Sort"
   ]
  },
  {
   "cell_type": "code",
   "execution_count": 5,
   "metadata": {
    "vscode": {
     "languageId": "java"
    }
   },
   "outputs": [
    {
     "name": "stdout",
     "output_type": "stream",
     "text": [
      "Mafia before sort: [Al Capone a.k.a Scarface, Lucky Luciano a.k.a Lucky, Vito Genovese a.k.a Don Vito, Frank Costello a.k.a Prime Minister, Carlo Gambino a.k.a Don Carlo, Bugs Moran a.k.a Buginson]\n",
      "Mafia after sort: [Carlo Gambino a.k.a Don Carlo, Frank Costello a.k.a Prime Minister, Vito Genovese a.k.a Don Vito, Lucky Luciano a.k.a Lucky, Bugs Moran a.k.a Buginson, Al Capone a.k.a Scarface]\n"
     ]
    }
   ],
   "source": [
    "public class BubbleSort {\n",
    "    public static void bubbleSort(ArrayList<Gangster> list) {\n",
    "        int n = list.size();\n",
    "        for (int i = 0; i < n - 1; i++) {\n",
    "            for (int j = 0; j < n - i - 1; j++) {\n",
    "                if (list.get(j).compareTo(list.get(j + 1)) > 0) {\n",
    "                    Gangster temp = list.get(j);\n",
    "                    list.set(j, list.get(j + 1));\n",
    "                    list.set(j + 1, temp);\n",
    "                }\n",
    "            }\n",
    "        }\n",
    "    }\n",
    "}\n",
    "\n",
    "ArrayList<Gangster> mafia = Mafia.generate(); \n",
    "System.out.println(\"Mafia before sort: \" + mafia);\n",
    "BubbleSort.bubbleSort(mafia);\n",
    "System.out.println(\"Mafia after sort: \" + mafia);\n"
   ]
  },
  {
   "cell_type": "markdown",
   "metadata": {},
   "source": [
    "# Selection Sort"
   ]
  },
  {
   "cell_type": "code",
   "execution_count": 6,
   "metadata": {
    "vscode": {
     "languageId": "java"
    }
   },
   "outputs": [
    {
     "name": "stdout",
     "output_type": "stream",
     "text": [
      "Mafia before Selection Sort: [Al Capone a.k.a Scarface, Lucky Luciano a.k.a Lucky, Vito Genovese a.k.a Don Vito, Frank Costello a.k.a Prime Minister, Carlo Gambino a.k.a Don Carlo, Bugs Moran a.k.a Buginson]\n",
      "Mafia after Selection Sort: [Carlo Gambino a.k.a Don Carlo, Frank Costello a.k.a Prime Minister, Vito Genovese a.k.a Don Vito, Lucky Luciano a.k.a Lucky, Bugs Moran a.k.a Buginson, Al Capone a.k.a Scarface]\n"
     ]
    }
   ],
   "source": [
    "public class SelectionSort {\n",
    "    public static void selectionSort(ArrayList<Gangster> list) {\n",
    "        int n = list.size();\n",
    "        for (int i = 0; i < n - 1; i++) {\n",
    "            int minIndex = i;\n",
    "            for (int j = i + 1; j < n; j++) {\n",
    "                if (list.get(j).compareTo(list.get(minIndex)) < 0) {\n",
    "                    minIndex = j;\n",
    "                }\n",
    "            }\n",
    "            Gangster temp = list.get(minIndex);\n",
    "            list.set(minIndex, list.get(i));\n",
    "            list.set(i, temp);\n",
    "        }\n",
    "    }\n",
    "}\n",
    "\n",
    "ArrayList<Gangster> mafia = Mafia.generate(); \n",
    "System.out.println(\"Mafia before Selection Sort: \" + mafia);\n",
    "SelectionSort.selectionSort(mafia);\n",
    "System.out.println(\"Mafia after Selection Sort: \" + mafia);"
   ]
  },
  {
   "cell_type": "markdown",
   "metadata": {},
   "source": [
    "# Insertion Sort"
   ]
  },
  {
   "cell_type": "code",
   "execution_count": 7,
   "metadata": {
    "vscode": {
     "languageId": "java"
    }
   },
   "outputs": [
    {
     "name": "stdout",
     "output_type": "stream",
     "text": [
      "Mafia before Insertion Sort: [Al Capone a.k.a Scarface, Lucky Luciano a.k.a Lucky, Vito Genovese a.k.a Don Vito, Frank Costello a.k.a Prime Minister, Carlo Gambino a.k.a Don Carlo, Bugs Moran a.k.a Buginson]\n",
      "Mafia after Insertion Sort: [Carlo Gambino a.k.a Don Carlo, Frank Costello a.k.a Prime Minister, Vito Genovese a.k.a Don Vito, Lucky Luciano a.k.a Lucky, Bugs Moran a.k.a Buginson, Al Capone a.k.a Scarface]\n"
     ]
    }
   ],
   "source": [
    "public class InsertionSort {\n",
    "    public static void insertionSort(ArrayList<Gangster> list) {\n",
    "        int n = list.size();\n",
    "        for (int i = 1; i < n; i++) {\n",
    "            Gangster key = list.get(i);\n",
    "            int j = i - 1;\n",
    "            while (j >= 0 && list.get(j).compareTo(key) > 0) {\n",
    "                list.set(j + 1, list.get(j));\n",
    "                j--;\n",
    "            }\n",
    "            list.set(j + 1, key);\n",
    "        }\n",
    "    }\n",
    "}\n",
    "\n",
    "ArrayList<Gangster> mafia = Mafia.generate(); \n",
    "System.out.println(\"Mafia before Insertion Sort: \" + mafia);\n",
    "InsertionSort.insertionSort(mafia);\n",
    "System.out.println(\"Mafia after Insertion Sort: \" + mafia);\n"
   ]
  },
  {
   "cell_type": "markdown",
   "metadata": {},
   "source": [
    "# Merge Sort"
   ]
  },
  {
   "cell_type": "code",
   "execution_count": 8,
   "metadata": {
    "vscode": {
     "languageId": "java"
    }
   },
   "outputs": [
    {
     "name": "stdout",
     "output_type": "stream",
     "text": [
      "Mafia before Merge Sort: [Al Capone a.k.a Scarface, Lucky Luciano a.k.a Lucky, Vito Genovese a.k.a Don Vito, Frank Costello a.k.a Prime Minister, Carlo Gambino a.k.a Don Carlo, Bugs Moran a.k.a Buginson]\n",
      "Mafia after Merge Sort: [Carlo Gambino a.k.a Don Carlo, Frank Costello a.k.a Prime Minister, Vito Genovese a.k.a Don Vito, Lucky Luciano a.k.a Lucky, Bugs Moran a.k.a Buginson, Al Capone a.k.a Scarface]\n"
     ]
    }
   ],
   "source": [
    "public class MergeSort {\n",
    "    public static void mergeSort(ArrayList<Gangster> list) {\n",
    "        if (list.size() > 1) {\n",
    "            int mid = list.size() / 2;\n",
    "            ArrayList<Gangster> left = new ArrayList<>(list.subList(0, mid));\n",
    "            ArrayList<Gangster> right = new ArrayList<>(list.subList(mid, list.size()));\n",
    "\n",
    "            mergeSort(left);\n",
    "            mergeSort(right);\n",
    "\n",
    "            merge(list, left, right);\n",
    "        }\n",
    "    }\n",
    "\n",
    "    private static void merge(ArrayList<Gangster> list, ArrayList<Gangster> left, ArrayList<Gangster> right) {\n",
    "        int i = 0, j = 0, k = 0;\n",
    "        while (i < left.size() && j < right.size()) {\n",
    "            if (left.get(i).compareTo(right.get(j)) <= 0) {\n",
    "                list.set(k++, left.get(i++));\n",
    "            } else {\n",
    "                list.set(k++, right.get(j++));\n",
    "            }\n",
    "        }\n",
    "\n",
    "        while (i < left.size()) {\n",
    "            list.set(k++, left.get(i++));\n",
    "        }\n",
    "\n",
    "        while (j < right.size()) {\n",
    "            list.set(k++, right.get(j++));\n",
    "        }\n",
    "    }\n",
    "}\n",
    "\n",
    "ArrayList<Gangster> mafia = Mafia.generate(); \n",
    "System.out.println(\"Mafia before Merge Sort: \" + mafia);\n",
    "MergeSort.mergeSort(mafia);\n",
    "System.out.println(\"Mafia after Merge Sort: \" + mafia);\n"
   ]
  },
  {
   "cell_type": "markdown",
   "metadata": {},
   "source": [
    "# Quicksort wirth Arrays"
   ]
  },
  {
   "cell_type": "code",
   "execution_count": 9,
   "metadata": {
    "vscode": {
     "languageId": "java"
    }
   },
   "outputs": [
    {
     "name": "stdout",
     "output_type": "stream",
     "text": [
      "Mafia before Quick Sort: [Al Capone a.k.a Scarface, Lucky Luciano a.k.a Lucky, Vito Genovese a.k.a Don Vito, Frank Costello a.k.a Prime Minister, Carlo Gambino a.k.a Don Carlo, Bugs Moran a.k.a Buginson]\n",
      "Mafia after Quick Sort: [Carlo Gambino a.k.a Don Carlo, Frank Costello a.k.a Prime Minister, Vito Genovese a.k.a Don Vito, Bugs Moran a.k.a Buginson, Lucky Luciano a.k.a Lucky, Al Capone a.k.a Scarface]\n"
     ]
    }
   ],
   "source": [
    "public class QuickSort {\n",
    "    public static void quickSort(ArrayList<Gangster> list, int low, int high) {\n",
    "        if (low < high) {\n",
    "            int pi = partition(list, low, high);\n",
    "            quickSort(list, low, pi - 1);\n",
    "            quickSort(list, pi + 1, high);\n",
    "        }\n",
    "    }\n",
    "\n",
    "    private static int partition(ArrayList<Gangster> list, int low, int high) {\n",
    "        Gangster pivot = list.get(high);\n",
    "        int i = low - 1;\n",
    "        for (int j = low; j < high; j++) {\n",
    "            if (list.get(j).compareTo(pivot) < 0) {\n",
    "                i++;\n",
    "                Gangster temp = list.get(i);\n",
    "                list.set(i, list.get(j));\n",
    "                list.set(j, temp);\n",
    "            }\n",
    "        }\n",
    "        Gangster temp = list.get(i + 1);\n",
    "        list.set(i + 1, list.get(high));\n",
    "        list.set(high, temp);\n",
    "        return i + 1;\n",
    "    }\n",
    "}\n",
    "\n",
    "ArrayList<Gangster> mafia = Mafia.generate(); \n",
    "System.out.println(\"Mafia before Quick Sort: \" + mafia);\n",
    "QuickSort.quickSort(mafia, 0, mafia.size() - 1);\n",
    "System.out.println(\"Mafia after Quick Sort: \" + mafia);\n"
   ]
  },
  {
   "cell_type": "markdown",
   "metadata": {},
   "source": [
    "# Quicksort with Linked Lists"
   ]
  },
  {
   "cell_type": "code",
   "execution_count": 10,
   "metadata": {
    "vscode": {
     "languageId": "java"
    }
   },
   "outputs": [
    {
     "name": "stdout",
     "output_type": "stream",
     "text": [
      "Original list:\n",
      "Al Capone a.k.a Scarface -> Lucky Luciano a.k.a Lucky -> Vito Genovese a.k.a Don Vito -> Frank Costello a.k.a Prime Minister -> Carlo Gambino a.k.a Don Carlo -> null\n",
      "Sorted list:\n",
      "Carlo Gambino a.k.a Don Carlo -> Frank Costello a.k.a Prime Minister -> Vito Genovese a.k.a Don Vito -> Lucky Luciano a.k.a Lucky -> Al Capone a.k.a Scarface -> null\n"
     ]
    }
   ],
   "source": [
    "public class GangsterNode {\n",
    "    Gangster data;\n",
    "    GangsterNode next;\n",
    "\n",
    "    public GangsterNode(Gangster data) {\n",
    "        this.data = data;\n",
    "        this.next = null;\n",
    "    }\n",
    "}\n",
    "\n",
    "public class GangsterList {\n",
    "    GangsterNode head;\n",
    "\n",
    "    public void add(Gangster data) {\n",
    "        GangsterNode newNode = new GangsterNode(data);\n",
    "        if (head == null) {\n",
    "            head = newNode;\n",
    "        } else {\n",
    "            GangsterNode current = head;\n",
    "            while (current.next != null) {\n",
    "                current = current.next;\n",
    "            }\n",
    "            current.next = newNode;\n",
    "        }\n",
    "    }\n",
    "\n",
    "    public void printList() {\n",
    "        GangsterNode temp = head;\n",
    "        while (temp != null) {\n",
    "            System.out.print(temp.data + \" -> \");\n",
    "            temp = temp.next;\n",
    "        }\n",
    "        System.out.println(\"null\");\n",
    "    }\n",
    "}\n",
    "\n",
    "public class QuickSortLinkedList {\n",
    "\n",
    "    public static void quickSort(GangsterNode head, GangsterNode end) {\n",
    "        if (head != end && head != null && end != null) {\n",
    "            GangsterNode partitionNode = partition(head, end);\n",
    "            quickSort(head, partitionNode);\n",
    "            quickSort(partitionNode.next, end);\n",
    "        }\n",
    "    }\n",
    "\n",
    "    private static GangsterNode partition(GangsterNode start, GangsterNode end) {\n",
    "        if (start == end || start == null || end == null)\n",
    "            return start;\n",
    "\n",
    "        GangsterNode pivotPrev = start;\n",
    "        GangsterNode curr = start;\n",
    "        Gangster pivot = end.data;\n",
    "\n",
    "        // Iterate till one before the end, exclusive of the end\n",
    "        while (start != end) {\n",
    "            if (start.data.compareTo(pivot) < 0) {\n",
    "                // Keep tracks of last modified item\n",
    "                pivotPrev = curr;\n",
    "                Gangster temp = curr.data;\n",
    "                curr.data = start.data;\n",
    "                start.data = temp;\n",
    "                curr = curr.next;\n",
    "            }\n",
    "            start = start.next;\n",
    "        }\n",
    "\n",
    "        // Swap the position of the current node and pivot\n",
    "        Gangster temp = curr.data;\n",
    "        curr.data = pivot;\n",
    "        end.data = temp;\n",
    "\n",
    "        // Return one before pivot, because pivot is now in its correct place\n",
    "        return pivotPrev;\n",
    "    }\n",
    "\n",
    "    public static void main(String[] args) {\n",
    "        GangsterList list = new GangsterList();\n",
    "        list.add(new Gangster(\"Al Capone\", \"Scarface\", 10));\n",
    "        list.add(new Gangster(\"Lucky Luciano\", \"Lucky\", 9));\n",
    "        list.add(new Gangster(\"Vito Genovese\", \"Don Vito\", 8));\n",
    "        list.add(new Gangster(\"Frank Costello\", \"Prime Minister\", 7));\n",
    "        list.add(new Gangster(\"Carlo Gambino\", \"Don Carlo\", 6));\n",
    "\n",
    "        System.out.println(\"Original list:\");\n",
    "        list.printList();\n",
    "\n",
    "        // Finding the last node\n",
    "        GangsterNode last = list.head;\n",
    "        while (last.next != null)\n",
    "            last = last.next;\n",
    "\n",
    "        // Applying quick sort\n",
    "        quickSort(list.head, last);\n",
    "\n",
    "        System.out.println(\"Sorted list:\");\n",
    "        list.printList();\n",
    "    }\n",
    "}\n",
    "\n",
    "QuickSortLinkedList.main(null);"
   ]
  }
 ],
 "metadata": {
  "kernelspec": {
   "display_name": "Java",
   "language": "java",
   "name": "java"
  },
  "language_info": {
   "codemirror_mode": "java",
   "file_extension": ".jshell",
   "mimetype": "text/x-java-source",
   "name": "Java",
   "pygments_lexer": "java",
   "version": "17.0.10+7-Ubuntu-120.04.1"
  }
 },
 "nbformat": 4,
 "nbformat_minor": 2
}
